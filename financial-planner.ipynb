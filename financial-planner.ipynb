{
 "cells": [
  {
   "cell_type": "markdown",
   "source": [
    "# Unit 5 - Financial Planning"
   ],
   "metadata": {}
  },
  {
   "cell_type": "code",
   "execution_count": 1,
   "source": [
    "# Initial imports\r\n",
    "import os\r\n",
    "import requests\r\n",
    "import pandas as pd\r\n",
    "from dotenv import load_dotenv\r\n",
    "import alpaca_trade_api as tradeapi\r\n",
    "from MCForecastTools import MCSimulation\r\n",
    "import json\r\n",
    "\r\n",
    "%matplotlib inline"
   ],
   "outputs": [],
   "metadata": {}
  },
  {
   "cell_type": "code",
   "execution_count": 2,
   "source": [
    "# Load .env enviroment variables\r\n",
    "load_dotenv()"
   ],
   "outputs": [
    {
     "output_type": "execute_result",
     "data": {
      "text/plain": [
       "True"
      ]
     },
     "metadata": {},
     "execution_count": 2
    }
   ],
   "metadata": {}
  },
  {
   "cell_type": "markdown",
   "source": [
    "## Part 1 - Personal Finance Planner"
   ],
   "metadata": {}
  },
  {
   "cell_type": "markdown",
   "source": [
    "### Collect Crypto Prices Using the `requests` Library"
   ],
   "metadata": {}
  },
  {
   "cell_type": "code",
   "execution_count": 3,
   "source": [
    "# Crypto variables\r\n",
    "my_btc = 1.2\r\n",
    "my_eth = 5.3\r\n",
    "# Set current amount of crypto assets\r\n",
    "crypto_data = {\r\n",
    "    \"Crypto\": [my_btc, my_eth]\r\n",
    "}\r\n",
    "\r\n",
    "# Set the crypto tickers\r\n",
    "crypto = [\"BTC\", \"ETH\"]\r\n",
    "# Create the crypto DataFrame\r\n",
    "df_crypto = pd.DataFrame(crypto_data, index=crypto)\r\n",
    "df_crypto"
   ],
   "outputs": [
    {
     "output_type": "execute_result",
     "data": {
      "text/html": [
       "<div>\n",
       "<style scoped>\n",
       "    .dataframe tbody tr th:only-of-type {\n",
       "        vertical-align: middle;\n",
       "    }\n",
       "\n",
       "    .dataframe tbody tr th {\n",
       "        vertical-align: top;\n",
       "    }\n",
       "\n",
       "    .dataframe thead th {\n",
       "        text-align: right;\n",
       "    }\n",
       "</style>\n",
       "<table border=\"1\" class=\"dataframe\">\n",
       "  <thead>\n",
       "    <tr style=\"text-align: right;\">\n",
       "      <th></th>\n",
       "      <th>Crypto</th>\n",
       "    </tr>\n",
       "  </thead>\n",
       "  <tbody>\n",
       "    <tr>\n",
       "      <th>BTC</th>\n",
       "      <td>1.2</td>\n",
       "    </tr>\n",
       "    <tr>\n",
       "      <th>ETH</th>\n",
       "      <td>5.3</td>\n",
       "    </tr>\n",
       "  </tbody>\n",
       "</table>\n",
       "</div>"
      ],
      "text/plain": [
       "     Crypto\n",
       "BTC     1.2\n",
       "ETH     5.3"
      ]
     },
     "metadata": {},
     "execution_count": 3
    }
   ],
   "metadata": {}
  },
  {
   "cell_type": "code",
   "execution_count": 4,
   "source": [
    "# Crypto API URLs\r\n",
    "btc_url = \"https://api.alternative.me/v2/ticker/Bitcoin/?convert=CAD\"\r\n",
    "eth_url = \"https://api.alternative.me/v2/ticker/Ethereum/?convert=CAD\""
   ],
   "outputs": [],
   "metadata": {}
  },
  {
   "cell_type": "code",
   "execution_count": 5,
   "source": [
    "# Fetch current BTC price\r\n",
    "# Execute 'GET' request using url\r\n",
    "btc_data = requests.get(btc_url).json()\r\n",
    "print(json.dumps(btc_data, indent=4))\r\n"
   ],
   "outputs": [
    {
     "output_type": "stream",
     "name": "stdout",
     "text": [
      "{\n",
      "    \"data\": {\n",
      "        \"1\": {\n",
      "            \"id\": 1,\n",
      "            \"name\": \"Bitcoin\",\n",
      "            \"symbol\": \"BTC\",\n",
      "            \"website_slug\": \"bitcoin\",\n",
      "            \"rank\": 1,\n",
      "            \"circulating_supply\": 18813693,\n",
      "            \"total_supply\": 18813693,\n",
      "            \"max_supply\": 21000000,\n",
      "            \"quotes\": {\n",
      "                \"USD\": {\n",
      "                    \"price\": 46101.0,\n",
      "                    \"volume_24h\": 30911537180,\n",
      "                    \"market_cap\": 867732398749,\n",
      "                    \"percentage_change_1h\": -0.16793681992343,\n",
      "                    \"percentage_change_24h\": 0.867405540791215,\n",
      "                    \"percentage_change_7d\": -7.82191727316301,\n",
      "                    \"percent_change_1h\": -0.16793681992343,\n",
      "                    \"percent_change_24h\": 0.867405540791215,\n",
      "                    \"percent_change_7d\": -7.82191727316301\n",
      "                },\n",
      "                \"CAD\": {\n",
      "                    \"price\": 58506.7791,\n",
      "                    \"volume_24h\": 39229831835.138,\n",
      "                    \"market_cap\": 1101239187252.36,\n",
      "                    \"percent_change_1h\": -0.16793681992343,\n",
      "                    \"percent_change_24h\": 0.867405540791215,\n",
      "                    \"percent_change_7d\": -7.82191727316301\n",
      "                }\n",
      "            },\n",
      "            \"last_updated\": 1631451817\n",
      "        }\n",
      "    },\n",
      "    \"metadata\": {\n",
      "        \"timestamp\": 1631451817,\n",
      "        \"num_cryptocurrencies\": 3105,\n",
      "        \"error\": null\n",
      "    }\n",
      "}\n"
     ]
    }
   ],
   "metadata": {}
  },
  {
   "cell_type": "code",
   "execution_count": 6,
   "source": [
    "# Select value and store as a variable\r\n",
    "btc_price = btc_data['data']['1']['quotes']['USD']['price']\r\n",
    "print(btc_price)"
   ],
   "outputs": [
    {
     "output_type": "stream",
     "name": "stdout",
     "text": [
      "46101.0\n"
     ]
    }
   ],
   "metadata": {}
  },
  {
   "cell_type": "code",
   "execution_count": 7,
   "source": [
    "# Fetch current ETH price\r\n",
    "# Execute 'GET' request using url\r\n",
    "eth_data = requests.get(eth_url).json()\r\n",
    "print(json.dumps(eth_data, indent=4))\r\n"
   ],
   "outputs": [
    {
     "output_type": "stream",
     "name": "stdout",
     "text": [
      "{\n",
      "    \"data\": {\n",
      "        \"1027\": {\n",
      "            \"id\": 1027,\n",
      "            \"name\": \"Ethereum\",\n",
      "            \"symbol\": \"ETH\",\n",
      "            \"website_slug\": \"ethereum\",\n",
      "            \"rank\": 2,\n",
      "            \"circulating_supply\": 117493507,\n",
      "            \"total_supply\": 117493507,\n",
      "            \"max_supply\": 0,\n",
      "            \"quotes\": {\n",
      "                \"USD\": {\n",
      "                    \"price\": 3445.02,\n",
      "                    \"volume_24h\": 19952564947,\n",
      "                    \"market_cap\": 405372235366,\n",
      "                    \"percentage_change_1h\": -0.0079065545151063,\n",
      "                    \"percentage_change_24h\": 3.42522011866107,\n",
      "                    \"percentage_change_7d\": -11.5512330677277,\n",
      "                    \"percent_change_1h\": -0.0079065545151063,\n",
      "                    \"percent_change_24h\": 3.42522011866107,\n",
      "                    \"percent_change_7d\": -11.5512330677277\n",
      "                },\n",
      "                \"CAD\": {\n",
      "                    \"price\": 4372.074882,\n",
      "                    \"volume_24h\": 25321800174.2377,\n",
      "                    \"market_cap\": 514457903902.991,\n",
      "                    \"percent_change_1h\": -0.0079065545151063,\n",
      "                    \"percent_change_24h\": 3.42522011866107,\n",
      "                    \"percent_change_7d\": -11.5512330677277\n",
      "                }\n",
      "            },\n",
      "            \"last_updated\": 1631451899\n",
      "        }\n",
      "    },\n",
      "    \"metadata\": {\n",
      "        \"timestamp\": 1631451899,\n",
      "        \"num_cryptocurrencies\": 3105,\n",
      "        \"error\": null\n",
      "    }\n",
      "}\n"
     ]
    }
   ],
   "metadata": {}
  },
  {
   "cell_type": "code",
   "execution_count": 8,
   "source": [
    "# Select value and store as a variable\r\n",
    "eth_price = eth_data['data']['1027']['quotes']['USD']['price']\r\n",
    "print(eth_price)"
   ],
   "outputs": [
    {
     "output_type": "stream",
     "name": "stdout",
     "text": [
      "3445.02\n"
     ]
    }
   ],
   "metadata": {}
  },
  {
   "cell_type": "code",
   "execution_count": 9,
   "source": [
    "# Compute current value of my crpto\r\n",
    "my_btc_value = my_btc * btc_price\r\n",
    "my_eth_value = my_eth * eth_price\r\n",
    "\r\n",
    "# Print current crypto wallet balance\r\n",
    "print(f\"The current value of your {my_btc} BTC is ${my_btc_value:0.2f}\")\r\n",
    "print(f\"The current value of your {my_eth} ETH is ${my_eth_value:0.2f}\")"
   ],
   "outputs": [
    {
     "output_type": "stream",
     "name": "stdout",
     "text": [
      "The current value of your 1.2 BTC is $55321.20\n",
      "The current value of your 5.3 ETH is $18258.61\n"
     ]
    }
   ],
   "metadata": {}
  },
  {
   "cell_type": "markdown",
   "source": [
    "### Collect Investments Data Using Alpaca: `SPY` (stocks) and `AGG` (bonds)"
   ],
   "metadata": {}
  },
  {
   "cell_type": "code",
   "execution_count": 10,
   "source": [
    "# Set current amount of shares\r\n",
    "my_agg = 200\r\n",
    "my_spy = 50"
   ],
   "outputs": [],
   "metadata": {}
  },
  {
   "cell_type": "code",
   "execution_count": 11,
   "source": [
    "# Set Alpaca API key and secret\r\n",
    "alpaca_api_key = os.getenv(\"ALPACA_API_KEY\")\r\n",
    "alpaca_secret_key = os.getenv(\"ALPACA_SECRET_KEY\")\r\n",
    "\r\n",
    "# Create the Alpaca API object\r\n",
    "alpaca = tradeapi.REST(\r\n",
    "    alpaca_api_key,\r\n",
    "    alpaca_secret_key,\r\n",
    "    api_version=\"v2\")\r\n",
    "    "
   ],
   "outputs": [],
   "metadata": {}
  },
  {
   "cell_type": "code",
   "execution_count": 25,
   "source": [
    "# Format current date as ISO format\r\n",
    "# Set start and end datetimes between now and 3 years ago.\r\n",
    "today = pd.Timestamp(\"2020-09-09\", tz=\"America/New_York\").isoformat()\r\n",
    "# Set the tickers\r\n",
    "tickers = [\"AGG\", \"SPY\"]\r\n",
    "\r\n",
    "# Set timeframe to '1D' for Alpaca API\r\n",
    "timeframe = \"1D\"\r\n",
    "\r\n",
    "# Get current closing prices for SPY and AGG\r\n",
    "# (use a limit=1000 parameter to call the most recent 1000 days of data)\r\n",
    "start_date = pd.Timestamp(\"2018-09-09\", tz=\"America/New_York\").isoformat()\r\n",
    "end_date = pd.Timestamp(\"2021-09-09\", tz=\"America/New_York\").isoformat()\r\n",
    "\r\n",
    "df_ticker = alpaca.get_barset(\r\n",
    "    tickers,\r\n",
    "    timeframe,\r\n",
    "    start=start_date,\r\n",
    "    end=end_date,\r\n",
    "    limit=1000,\r\n",
    ").df\r\n",
    "df_ticker = df_ticker.sort_index(ascending=False)\r\n",
    "\r\n",
    "\r\n",
    "# Preview DataFrame\r\n",
    "df_ticker.head(10)"
   ],
   "outputs": [
    {
     "output_type": "execute_result",
     "data": {
      "text/html": [
       "<div>\n",
       "<style scoped>\n",
       "    .dataframe tbody tr th:only-of-type {\n",
       "        vertical-align: middle;\n",
       "    }\n",
       "\n",
       "    .dataframe tbody tr th {\n",
       "        vertical-align: top;\n",
       "    }\n",
       "\n",
       "    .dataframe thead tr th {\n",
       "        text-align: left;\n",
       "    }\n",
       "\n",
       "    .dataframe thead tr:last-of-type th {\n",
       "        text-align: right;\n",
       "    }\n",
       "</style>\n",
       "<table border=\"1\" class=\"dataframe\">\n",
       "  <thead>\n",
       "    <tr>\n",
       "      <th></th>\n",
       "      <th colspan=\"5\" halign=\"left\">AGG</th>\n",
       "      <th colspan=\"5\" halign=\"left\">SPY</th>\n",
       "    </tr>\n",
       "    <tr>\n",
       "      <th></th>\n",
       "      <th>open</th>\n",
       "      <th>high</th>\n",
       "      <th>low</th>\n",
       "      <th>close</th>\n",
       "      <th>volume</th>\n",
       "      <th>open</th>\n",
       "      <th>high</th>\n",
       "      <th>low</th>\n",
       "      <th>close</th>\n",
       "      <th>volume</th>\n",
       "    </tr>\n",
       "    <tr>\n",
       "      <th>time</th>\n",
       "      <th></th>\n",
       "      <th></th>\n",
       "      <th></th>\n",
       "      <th></th>\n",
       "      <th></th>\n",
       "      <th></th>\n",
       "      <th></th>\n",
       "      <th></th>\n",
       "      <th></th>\n",
       "      <th></th>\n",
       "    </tr>\n",
       "  </thead>\n",
       "  <tbody>\n",
       "    <tr>\n",
       "      <th>2021-09-09 00:00:00-04:00</th>\n",
       "      <td>115.840</td>\n",
       "      <td>116.1470</td>\n",
       "      <td>115.7550</td>\n",
       "      <td>116.100</td>\n",
       "      <td>3232335.0</td>\n",
       "      <td>450.70</td>\n",
       "      <td>452.57</td>\n",
       "      <td>448.7200</td>\n",
       "      <td>448.940</td>\n",
       "      <td>51603442</td>\n",
       "    </tr>\n",
       "    <tr>\n",
       "      <th>2021-09-08 00:00:00-04:00</th>\n",
       "      <td>115.700</td>\n",
       "      <td>115.8200</td>\n",
       "      <td>115.6200</td>\n",
       "      <td>115.740</td>\n",
       "      <td>3084384.0</td>\n",
       "      <td>450.89</td>\n",
       "      <td>451.67</td>\n",
       "      <td>448.8600</td>\n",
       "      <td>450.960</td>\n",
       "      <td>50695626</td>\n",
       "    </tr>\n",
       "    <tr>\n",
       "      <th>2021-09-07 00:00:00-04:00</th>\n",
       "      <td>115.640</td>\n",
       "      <td>115.6457</td>\n",
       "      <td>115.4737</td>\n",
       "      <td>115.550</td>\n",
       "      <td>3190893.0</td>\n",
       "      <td>452.71</td>\n",
       "      <td>452.81</td>\n",
       "      <td>450.7423</td>\n",
       "      <td>451.520</td>\n",
       "      <td>46091753</td>\n",
       "    </tr>\n",
       "    <tr>\n",
       "      <th>2021-09-03 00:00:00-04:00</th>\n",
       "      <td>115.840</td>\n",
       "      <td>115.8900</td>\n",
       "      <td>115.7707</td>\n",
       "      <td>115.850</td>\n",
       "      <td>4172690.0</td>\n",
       "      <td>451.98</td>\n",
       "      <td>453.63</td>\n",
       "      <td>451.5500</td>\n",
       "      <td>453.060</td>\n",
       "      <td>37843082</td>\n",
       "    </tr>\n",
       "    <tr>\n",
       "      <th>2021-09-02 00:00:00-04:00</th>\n",
       "      <td>116.020</td>\n",
       "      <td>116.0600</td>\n",
       "      <td>115.9200</td>\n",
       "      <td>116.060</td>\n",
       "      <td>3735912.0</td>\n",
       "      <td>453.32</td>\n",
       "      <td>454.05</td>\n",
       "      <td>451.9100</td>\n",
       "      <td>453.195</td>\n",
       "      <td>39220785</td>\n",
       "    </tr>\n",
       "    <tr>\n",
       "      <th>2021-09-01 00:00:00-04:00</th>\n",
       "      <td>116.020</td>\n",
       "      <td>116.0200</td>\n",
       "      <td>115.8100</td>\n",
       "      <td>115.915</td>\n",
       "      <td>3822304.0</td>\n",
       "      <td>452.58</td>\n",
       "      <td>453.11</td>\n",
       "      <td>451.5450</td>\n",
       "      <td>451.810</td>\n",
       "      <td>42568610</td>\n",
       "    </tr>\n",
       "    <tr>\n",
       "      <th>2021-08-31 00:00:00-04:00</th>\n",
       "      <td>116.180</td>\n",
       "      <td>116.2850</td>\n",
       "      <td>116.0200</td>\n",
       "      <td>116.070</td>\n",
       "      <td>5628295.0</td>\n",
       "      <td>452.13</td>\n",
       "      <td>452.49</td>\n",
       "      <td>450.9200</td>\n",
       "      <td>451.610</td>\n",
       "      <td>48724399</td>\n",
       "    </tr>\n",
       "    <tr>\n",
       "      <th>2021-08-30 00:00:00-04:00</th>\n",
       "      <td>116.015</td>\n",
       "      <td>116.2200</td>\n",
       "      <td>116.0000</td>\n",
       "      <td>116.210</td>\n",
       "      <td>3261203.0</td>\n",
       "      <td>450.99</td>\n",
       "      <td>453.07</td>\n",
       "      <td>450.7100</td>\n",
       "      <td>452.220</td>\n",
       "      <td>41870839</td>\n",
       "    </tr>\n",
       "    <tr>\n",
       "      <th>2021-08-27 00:00:00-04:00</th>\n",
       "      <td>115.810</td>\n",
       "      <td>116.1000</td>\n",
       "      <td>115.7146</td>\n",
       "      <td>116.100</td>\n",
       "      <td>5361646.0</td>\n",
       "      <td>447.12</td>\n",
       "      <td>450.65</td>\n",
       "      <td>447.0600</td>\n",
       "      <td>450.190</td>\n",
       "      <td>54848833</td>\n",
       "    </tr>\n",
       "    <tr>\n",
       "      <th>2021-08-26 00:00:00-04:00</th>\n",
       "      <td>115.760</td>\n",
       "      <td>115.7900</td>\n",
       "      <td>115.6444</td>\n",
       "      <td>115.785</td>\n",
       "      <td>4730638.0</td>\n",
       "      <td>448.61</td>\n",
       "      <td>448.86</td>\n",
       "      <td>446.1600</td>\n",
       "      <td>446.270</td>\n",
       "      <td>53455704</td>\n",
       "    </tr>\n",
       "  </tbody>\n",
       "</table>\n",
       "</div>"
      ],
      "text/plain": [
       "                               AGG                                          \\\n",
       "                              open      high       low    close     volume   \n",
       "time                                                                         \n",
       "2021-09-09 00:00:00-04:00  115.840  116.1470  115.7550  116.100  3232335.0   \n",
       "2021-09-08 00:00:00-04:00  115.700  115.8200  115.6200  115.740  3084384.0   \n",
       "2021-09-07 00:00:00-04:00  115.640  115.6457  115.4737  115.550  3190893.0   \n",
       "2021-09-03 00:00:00-04:00  115.840  115.8900  115.7707  115.850  4172690.0   \n",
       "2021-09-02 00:00:00-04:00  116.020  116.0600  115.9200  116.060  3735912.0   \n",
       "2021-09-01 00:00:00-04:00  116.020  116.0200  115.8100  115.915  3822304.0   \n",
       "2021-08-31 00:00:00-04:00  116.180  116.2850  116.0200  116.070  5628295.0   \n",
       "2021-08-30 00:00:00-04:00  116.015  116.2200  116.0000  116.210  3261203.0   \n",
       "2021-08-27 00:00:00-04:00  115.810  116.1000  115.7146  116.100  5361646.0   \n",
       "2021-08-26 00:00:00-04:00  115.760  115.7900  115.6444  115.785  4730638.0   \n",
       "\n",
       "                              SPY                                       \n",
       "                             open    high       low    close    volume  \n",
       "time                                                                    \n",
       "2021-09-09 00:00:00-04:00  450.70  452.57  448.7200  448.940  51603442  \n",
       "2021-09-08 00:00:00-04:00  450.89  451.67  448.8600  450.960  50695626  \n",
       "2021-09-07 00:00:00-04:00  452.71  452.81  450.7423  451.520  46091753  \n",
       "2021-09-03 00:00:00-04:00  451.98  453.63  451.5500  453.060  37843082  \n",
       "2021-09-02 00:00:00-04:00  453.32  454.05  451.9100  453.195  39220785  \n",
       "2021-09-01 00:00:00-04:00  452.58  453.11  451.5450  451.810  42568610  \n",
       "2021-08-31 00:00:00-04:00  452.13  452.49  450.9200  451.610  48724399  \n",
       "2021-08-30 00:00:00-04:00  450.99  453.07  450.7100  452.220  41870839  \n",
       "2021-08-27 00:00:00-04:00  447.12  450.65  447.0600  450.190  54848833  \n",
       "2021-08-26 00:00:00-04:00  448.61  448.86  446.1600  446.270  53455704  "
      ]
     },
     "metadata": {},
     "execution_count": 25
    }
   ],
   "metadata": {}
  },
  {
   "cell_type": "code",
   "execution_count": 28,
   "source": [
    "# Pick AGG and SPY close prices\r\n",
    "agg_close_price = df_ticker[\"AGG\"][\"close\"][0]\r\n",
    "spy_close_price = df_ticker[\"SPY\"][\"close\"][0]\r\n",
    "\r\n",
    "\r\n",
    "# Print AGG and SPY close prices\r\n",
    "print(f\"Current AGG closing price: ${agg_close_price:0.2f}\")\r\n",
    "print(f\"Current SPY closing price: ${spy_close_price:0.2f}\")"
   ],
   "outputs": [
    {
     "output_type": "stream",
     "name": "stdout",
     "text": [
      "Current AGG closing price: $116.10\n",
      "Current SPY closing price: $448.94\n"
     ]
    }
   ],
   "metadata": {}
  },
  {
   "cell_type": "code",
   "execution_count": 29,
   "source": [
    "# Compute the current value of shares\r\n",
    "my_agg_value = agg_close_price * my_agg\r\n",
    "my_spy_value = spy_close_price * my_spy\r\n",
    "\r\n",
    "# Print current value of shares\r\n",
    "print(f\"The current value of your {my_spy} SPY shares is ${my_spy_value:0.2f}\")\r\n",
    "print(f\"The current value of your {my_agg} AGG shares is ${my_agg_value:0.2f}\")"
   ],
   "outputs": [
    {
     "output_type": "stream",
     "name": "stdout",
     "text": [
      "The current value of your 50 SPY shares is $22447.00\n",
      "The current value of your 200 AGG shares is $23220.00\n"
     ]
    }
   ],
   "metadata": {}
  },
  {
   "cell_type": "markdown",
   "source": [
    "### Savings Health Analysis"
   ],
   "metadata": {}
  },
  {
   "cell_type": "code",
   "execution_count": 30,
   "source": [
    "# Set monthly household income\r\n",
    "monthly_income = 12000\r\n",
    "# Set variables for total value of cryptos and shares\r\n",
    "crypto_total_value = my_btc_value + my_eth_value\r\n",
    "shares_total_value = my_agg_value + my_spy_value\r\n",
    "\r\n",
    "print(crypto_total_value)\r\n",
    "print(shares_total_value)"
   ],
   "outputs": [
    {
     "output_type": "stream",
     "name": "stdout",
     "text": [
      "73579.806\n",
      "45667.0\n"
     ]
    }
   ],
   "metadata": {}
  },
  {
   "cell_type": "code",
   "execution_count": 33,
   "source": [
    "# Consolidate financial assets data\r\n",
    "all_data = {\r\n",
    "    \"Amount\": [crypto_total_value, shares_total_value]\r\n",
    "}\r\n",
    "\r\n",
    "# Set the crypto tickers\r\n",
    "savings = [\"Crypto\", \"Shares\"]\r\n",
    "\r\n",
    "# Create savings DataFrame\r\n",
    "df_savings = pd.DataFrame(all_data, index=savings)\r\n",
    "\r\n",
    "# Display savings DataFrame\r\n",
    "display(df_savings)"
   ],
   "outputs": [
    {
     "output_type": "display_data",
     "data": {
      "text/html": [
       "<div>\n",
       "<style scoped>\n",
       "    .dataframe tbody tr th:only-of-type {\n",
       "        vertical-align: middle;\n",
       "    }\n",
       "\n",
       "    .dataframe tbody tr th {\n",
       "        vertical-align: top;\n",
       "    }\n",
       "\n",
       "    .dataframe thead th {\n",
       "        text-align: right;\n",
       "    }\n",
       "</style>\n",
       "<table border=\"1\" class=\"dataframe\">\n",
       "  <thead>\n",
       "    <tr style=\"text-align: right;\">\n",
       "      <th></th>\n",
       "      <th>Amount</th>\n",
       "    </tr>\n",
       "  </thead>\n",
       "  <tbody>\n",
       "    <tr>\n",
       "      <th>Crypto</th>\n",
       "      <td>73579.806</td>\n",
       "    </tr>\n",
       "    <tr>\n",
       "      <th>Shares</th>\n",
       "      <td>45667.000</td>\n",
       "    </tr>\n",
       "  </tbody>\n",
       "</table>\n",
       "</div>"
      ],
      "text/plain": [
       "           Amount\n",
       "Crypto  73579.806\n",
       "Shares  45667.000"
      ]
     },
     "metadata": {}
    }
   ],
   "metadata": {}
  },
  {
   "cell_type": "code",
   "execution_count": 34,
   "source": [
    "# Plot savings pie chart\r\n",
    "df_savings.plot.pie(y='Amount', title='Composition of personal savings')"
   ],
   "outputs": [
    {
     "output_type": "execute_result",
     "data": {
      "text/plain": [
       "<AxesSubplot:title={'center':'Composition of personal savings'}, ylabel='Amount'>"
      ]
     },
     "metadata": {},
     "execution_count": 34
    },
    {
     "output_type": "display_data",
     "data": {
      "image/png": "[encoded data removed]",
      "text/plain": [
       "<Figure size 432x288 with 1 Axes>"
      ]
     },
     "metadata": {}
    }
   ],
   "metadata": {}
  },
  {
   "cell_type": "code",
   "execution_count": 37,
   "source": [
    "# Set ideal emergency fund\r\n",
    "emergency_fund = monthly_income * 3\r\n",
    "\r\n",
    "# Calculate total amount of savings\r\n",
    "total_savings = crypto_total_value + shares_total_value\r\n",
    "\r\n",
    "# Validate saving health\r\n",
    "if total_savings > emergency_fund:\r\n",
    "    print('Congratulations you have more than enough current savings in this emergency fund.')\r\n",
    "elif total_savings == emergency_fund:\r\n",
    "    print('Congratulations on reaching this financial goal.')\r\n",
    "elif total_savings < emergency_fund:\r\n",
    "    print(f'You are: ${(emergency_fund - total_savings)} from reaching your goal.')"
   ],
   "outputs": [
    {
     "output_type": "stream",
     "name": "stdout",
     "text": [
      "Congratulations you have more than enough current savings in this emergency fund.\n"
     ]
    }
   ],
   "metadata": {}
  },
  {
   "cell_type": "markdown",
   "source": [
    "## Part 2 - Retirement Planning\n",
    "\n",
    "### Monte Carlo Simulation"
   ],
   "metadata": {}
  },
  {
   "cell_type": "code",
   "execution_count": null,
   "source": [
    "# Set start and end dates of five years back from today.\r\n",
    "# Sample results may vary from the solution based on the time frame chosen\r\n",
    "start_date = pd.Timestamp('2016-05-01', tz='America/New_York').isoformat()\r\n",
    "end_date = pd.Timestamp('2021-05-01', tz='America/New_York').isoformat()"
   ],
   "outputs": [],
   "metadata": {}
  },
  {
   "cell_type": "code",
   "execution_count": null,
   "source": [
    "# Get 5 years' worth of historical data for SPY and AGG\r\n",
    "# (use a limit=1000 parameter to call the most recent 1000 days of data)\r\n",
    "# YOUR CODE HERE!\r\n",
    "\r\n",
    "# Display sample data\r\n",
    "df_stock_data.head()"
   ],
   "outputs": [],
   "metadata": {}
  },
  {
   "cell_type": "code",
   "execution_count": null,
   "source": [
    "# Configuring a Monte Carlo simulation to forecast 30 years cumulative returns\r\n",
    "# YOUR CODE HERE!"
   ],
   "outputs": [],
   "metadata": {}
  },
  {
   "cell_type": "code",
   "execution_count": null,
   "source": [
    "# Printing the simulation input data\r\n",
    "# YOUR CODE HERE!"
   ],
   "outputs": [],
   "metadata": {}
  },
  {
   "cell_type": "code",
   "execution_count": null,
   "source": [
    "# Running a Monte Carlo simulation to forecast 30 years cumulative returns\r\n",
    "# YOUR CODE HERE!"
   ],
   "outputs": [],
   "metadata": {}
  },
  {
   "cell_type": "code",
   "execution_count": null,
   "source": [
    "# Plot simulation outcomes\r\n",
    "# YOUR CODE HERE!"
   ],
   "outputs": [],
   "metadata": {}
  },
  {
   "cell_type": "code",
   "execution_count": null,
   "source": [
    "# Plot probability distribution and confidence intervals\r\n",
    "# YOUR CODE HERE!"
   ],
   "outputs": [],
   "metadata": {}
  },
  {
   "cell_type": "markdown",
   "source": [
    "### Retirement Analysis"
   ],
   "metadata": {}
  },
  {
   "cell_type": "code",
   "execution_count": null,
   "source": [
    "# Fetch summary statistics from the Monte Carlo simulation results\r\n",
    "# YOUR CODE HERE!\r\n",
    "\r\n",
    "# Print summary statistics\r\n",
    "# YOUR CODE HERE!"
   ],
   "outputs": [],
   "metadata": {}
  },
  {
   "cell_type": "markdown",
   "source": [
    "### Calculate the expected portfolio return at the `95%` lower and upper confidence intervals based on a `$20,000` initial investment."
   ],
   "metadata": {}
  },
  {
   "cell_type": "code",
   "execution_count": null,
   "source": [
    "# Set initial investment\r\n",
    "initial_investment = 20000\r\n",
    "\r\n",
    "# Use the lower and upper `95%` confidence intervals to calculate the range of the possible outcomes of our $20,000\r\n",
    "# YOUR CODE HERE!\r\n",
    "\r\n",
    "# Print results\r\n",
    "print(f\"There is a 95% chance that an initial investment of ${initial_investment} in the portfolio\"\r\n",
    "      f\" over the next 30 years will end within in the range of\"\r\n",
    "      f\" ${ci_lower} and ${ci_upper}\")"
   ],
   "outputs": [],
   "metadata": {}
  },
  {
   "cell_type": "markdown",
   "source": [
    "### Calculate the expected portfolio return at the `95%` lower and upper confidence intervals based on a `50%` increase in the initial investment."
   ],
   "metadata": {}
  },
  {
   "cell_type": "code",
   "execution_count": null,
   "source": [
    "# Set initial investment\r\n",
    "initial_investment = 20000 * 1.5\r\n",
    "\r\n",
    "# Use the lower and upper `95%` confidence intervals to calculate the range of the possible outcomes of our $30,000\r\n",
    "# YOUR CODE HERE!\r\n",
    "\r\n",
    "# Print results\r\n",
    "print(f\"There is a 95% chance that an initial investment of ${initial_investment} in the portfolio\"\r\n",
    "      f\" over the next 30 years will end within in the range of\"\r\n",
    "      f\" ${ci_lower} and ${ci_upper}\")"
   ],
   "outputs": [],
   "metadata": {}
  },
  {
   "cell_type": "markdown",
   "source": [
    "## Optional Challenge - Early Retirement\n",
    "\n",
    "\n",
    "### Five Years Retirement Option"
   ],
   "metadata": {}
  },
  {
   "cell_type": "code",
   "execution_count": null,
   "source": [
    "# Configuring a Monte Carlo simulation to forecast 5 years cumulative returns\r\n",
    "# YOUR CODE HERE!"
   ],
   "outputs": [],
   "metadata": {}
  },
  {
   "cell_type": "code",
   "execution_count": null,
   "source": [
    "# Running a Monte Carlo simulation to forecast 5 years cumulative returns\r\n",
    "# YOUR CODE HERE!"
   ],
   "outputs": [],
   "metadata": {}
  },
  {
   "cell_type": "code",
   "execution_count": null,
   "source": [
    "# Plot simulation outcomes\r\n",
    "# YOUR CODE HERE!"
   ],
   "outputs": [],
   "metadata": {}
  },
  {
   "cell_type": "code",
   "execution_count": null,
   "source": [
    "# Plot probability distribution and confidence intervals\r\n",
    "# YOUR CODE HERE!"
   ],
   "outputs": [],
   "metadata": {}
  },
  {
   "cell_type": "code",
   "execution_count": null,
   "source": [
    "# Fetch summary statistics from the Monte Carlo simulation results\r\n",
    "# YOUR CODE HERE!\r\n",
    "\r\n",
    "# Print summary statistics\r\n",
    "# YOUR CODE HERE!"
   ],
   "outputs": [],
   "metadata": {}
  },
  {
   "cell_type": "code",
   "execution_count": null,
   "source": [
    "# Set initial investment\r\n",
    "# YOUR CODE HERE!\r\n",
    "\r\n",
    "# Use the lower and upper `95%` confidence intervals to calculate the range of the possible outcomes of our $60,000\r\n",
    "# YOUR CODE HERE!\r\n",
    "\r\n",
    "# Print results\r\n",
    "print(f\"There is a 95% chance that an initial investment of ${initial_investment} in the portfolio\"\r\n",
    "      f\" over the next 5 years will end within in the range of\"\r\n",
    "      f\" ${ci_lower_five} and ${ci_upper_five}\")"
   ],
   "outputs": [],
   "metadata": {}
  },
  {
   "cell_type": "markdown",
   "source": [
    "### Ten Years Retirement Option"
   ],
   "metadata": {}
  },
  {
   "cell_type": "code",
   "execution_count": null,
   "source": [
    "# Configuring a Monte Carlo simulation to forecast 10 years cumulative returns\r\n",
    "# YOUR CODE HERE!"
   ],
   "outputs": [],
   "metadata": {}
  },
  {
   "cell_type": "code",
   "execution_count": null,
   "source": [
    "# Running a Monte Carlo simulation to forecast 10 years cumulative returns\r\n",
    "# YOUR CODE HERE!"
   ],
   "outputs": [],
   "metadata": {}
  },
  {
   "cell_type": "code",
   "execution_count": null,
   "source": [
    "# Plot simulation outcomes\r\n",
    "# YOUR CODE HERE!"
   ],
   "outputs": [],
   "metadata": {}
  },
  {
   "cell_type": "code",
   "execution_count": null,
   "source": [
    "# Plot probability distribution and confidence intervals\r\n",
    "# YOUR CODE HERE!"
   ],
   "outputs": [],
   "metadata": {}
  },
  {
   "cell_type": "code",
   "execution_count": null,
   "source": [
    "# Fetch summary statistics from the Monte Carlo simulation results\r\n",
    "# YOUR CODE HERE!\r\n",
    "\r\n",
    "# Print summary statistics\r\n",
    "# YOUR CODE HERE!"
   ],
   "outputs": [],
   "metadata": {}
  },
  {
   "cell_type": "code",
   "execution_count": null,
   "source": [
    "# Set initial investment\r\n",
    "# YOUR CODE HERE!\r\n",
    "\r\n",
    "# Use the lower and upper `95%` confidence intervals to calculate the range of the possible outcomes of our $60,000\r\n",
    "# YOUR CODE HERE!\r\n",
    "\r\n",
    "# Print results\r\n",
    "print(f\"There is a 95% chance that an initial investment of ${initial_investment} in the portfolio\"\r\n",
    "      f\" over the next 10 years will end within in the range of\"\r\n",
    "      f\" ${ci_lower_ten} and ${ci_upper_ten}\")"
   ],
   "outputs": [],
   "metadata": {}
  },
  {
   "cell_type": "code",
   "execution_count": null,
   "source": [],
   "outputs": [],
   "metadata": {}
  }
 ],
 "metadata": {
  "kernelspec": {
   "display_name": "Python 3 (ipykernel)",
   "language": "python",
   "name": "python3"
  },
  "language_info": {
   "codemirror_mode": {
    "name": "ipython",
    "version": 3
   },
   "file_extension": ".py",
   "mimetype": "text/x-python",
   "name": "python",
   "nbconvert_exporter": "python",
   "pygments_lexer": "ipython3",
   "version": "3.8.8"
  },
  "nteract": {
   "version": "0.28.0"
  }
 },
 "nbformat": 4,
 "nbformat_minor": 4
}