{
 "cells": [
  {
   "cell_type": "markdown",
   "source": [
    "# Unit 5 - Financial Planning"
   ],
   "metadata": {}
  },
  {
   "cell_type": "code",
   "execution_count": 1,
   "source": [
    "# Initial imports\r\n",
    "import os\r\n",
    "import requests\r\n",
    "import pandas as pd\r\n",
    "from dotenv import load_dotenv\r\n",
    "import alpaca_trade_api as tradeapi\r\n",
    "from MCForecastTools import MCSimulation\r\n",
    "import json\r\n",
    "\r\n",
    "%matplotlib inline"
   ],
   "outputs": [],
   "metadata": {}
  },
  {
   "cell_type": "code",
   "execution_count": 2,
   "source": [
    "# Load .env enviroment variables\r\n",
    "load_dotenv()"
   ],
   "outputs": [
    {
     "output_type": "execute_result",
     "data": {
      "text/plain": [
       "True"
      ]
     },
     "metadata": {},
     "execution_count": 2
    }
   ],
   "metadata": {}
  },
  {
   "cell_type": "markdown",
   "source": [
    "## Part 1 - Personal Finance Planner"
   ],
   "metadata": {}
  },
  {
   "cell_type": "markdown",
   "source": [
    "### Collect Crypto Prices Using the `requests` Library"
   ],
   "metadata": {}
  },
  {
   "cell_type": "code",
   "execution_count": 3,
   "source": [
    "# Crypto variables\r\n",
    "my_btc = 1.2\r\n",
    "my_eth = 5.3\r\n",
    "# Set current amount of crypto assets\r\n",
    "crypto_data = {\r\n",
    "    \"Crypto\": [my_btc, my_eth]\r\n",
    "}\r\n",
    "\r\n",
    "# Set the crypto tickers\r\n",
    "crypto = [\"BTC\", \"ETH\"]\r\n",
    "# Create the crypto DataFrame\r\n",
    "df_crypto = pd.DataFrame(crypto_data, index=crypto)\r\n",
    "df_crypto"
   ],
   "outputs": [
    {
     "output_type": "execute_result",
     "data": {
      "text/html": [
       "<div>\n",
       "<style scoped>\n",
       "    .dataframe tbody tr th:only-of-type {\n",
       "        vertical-align: middle;\n",
       "    }\n",
       "\n",
       "    .dataframe tbody tr th {\n",
       "        vertical-align: top;\n",
       "    }\n",
       "\n",
       "    .dataframe thead th {\n",
       "        text-align: right;\n",
       "    }\n",
       "</style>\n",
       "<table border=\"1\" class=\"dataframe\">\n",
       "  <thead>\n",
       "    <tr style=\"text-align: right;\">\n",
       "      <th></th>\n",
       "      <th>Crypto</th>\n",
       "    </tr>\n",
       "  </thead>\n",
       "  <tbody>\n",
       "    <tr>\n",
       "      <th>BTC</th>\n",
       "      <td>1.2</td>\n",
       "    </tr>\n",
       "    <tr>\n",
       "      <th>ETH</th>\n",
       "      <td>5.3</td>\n",
       "    </tr>\n",
       "  </tbody>\n",
       "</table>\n",
       "</div>"
      ],
      "text/plain": [
       "     Crypto\n",
       "BTC     1.2\n",
       "ETH     5.3"
      ]
     },
     "metadata": {},
     "execution_count": 3
    }
   ],
   "metadata": {}
  },
  {
   "cell_type": "code",
   "execution_count": 4,
   "source": [
    "# Crypto API URLs\r\n",
    "btc_url = \"https://api.alternative.me/v2/ticker/Bitcoin/?convert=CAD\"\r\n",
    "eth_url = \"https://api.alternative.me/v2/ticker/Ethereum/?convert=CAD\""
   ],
   "outputs": [],
   "metadata": {}
  },
  {
   "cell_type": "code",
   "execution_count": 5,
   "source": [
    "# Fetch current BTC price\r\n",
    "# Execute 'GET' request using url\r\n",
    "btc_data = requests.get(btc_url).json()\r\n",
    "print(json.dumps(btc_data, indent=4))\r\n"
   ],
   "outputs": [
    {
     "output_type": "stream",
     "name": "stdout",
     "text": [
      "{\n",
      "    \"data\": {\n",
      "        \"1\": {\n",
      "            \"id\": 1,\n",
      "            \"name\": \"Bitcoin\",\n",
      "            \"symbol\": \"BTC\",\n",
      "            \"website_slug\": \"bitcoin\",\n",
      "            \"rank\": 1,\n",
      "            \"circulating_supply\": 18813693,\n",
      "            \"total_supply\": 18813693,\n",
      "            \"max_supply\": 21000000,\n",
      "            \"quotes\": {\n",
      "                \"USD\": {\n",
      "                    \"price\": 46101.0,\n",
      "                    \"volume_24h\": 30911537180,\n",
      "                    \"market_cap\": 867732398749,\n",
      "                    \"percentage_change_1h\": -0.16793681992343,\n",
      "                    \"percentage_change_24h\": 0.867405540791215,\n",
      "                    \"percentage_change_7d\": -7.82191727316301,\n",
      "                    \"percent_change_1h\": -0.16793681992343,\n",
      "                    \"percent_change_24h\": 0.867405540791215,\n",
      "                    \"percent_change_7d\": -7.82191727316301\n",
      "                },\n",
      "                \"CAD\": {\n",
      "                    \"price\": 58506.7791,\n",
      "                    \"volume_24h\": 39229831835.138,\n",
      "                    \"market_cap\": 1101239187252.36,\n",
      "                    \"percent_change_1h\": -0.16793681992343,\n",
      "                    \"percent_change_24h\": 0.867405540791215,\n",
      "                    \"percent_change_7d\": -7.82191727316301\n",
      "                }\n",
      "            },\n",
      "            \"last_updated\": 1631451817\n",
      "        }\n",
      "    },\n",
      "    \"metadata\": {\n",
      "        \"timestamp\": 1631451817,\n",
      "        \"num_cryptocurrencies\": 3105,\n",
      "        \"error\": null\n",
      "    }\n",
      "}\n"
     ]
    }
   ],
   "metadata": {}
  },
  {
   "cell_type": "code",
   "execution_count": 6,
   "source": [
    "# Select value and store as a variable\r\n",
    "btc_price = btc_data['data']['1']['quotes']['USD']['price']\r\n",
    "print(btc_price)"
   ],
   "outputs": [
    {
     "output_type": "stream",
     "name": "stdout",
     "text": [
      "46101.0\n"
     ]
    }
   ],
   "metadata": {}
  },
  {
   "cell_type": "code",
   "execution_count": 7,
   "source": [
    "# Fetch current ETH price\r\n",
    "# Execute 'GET' request using url\r\n",
    "eth_data = requests.get(eth_url).json()\r\n",
    "print(json.dumps(eth_data, indent=4))\r\n"
   ],
   "outputs": [
    {
     "output_type": "stream",
     "name": "stdout",
     "text": [
      "{\n",
      "    \"data\": {\n",
      "        \"1027\": {\n",
      "            \"id\": 1027,\n",
      "            \"name\": \"Ethereum\",\n",
      "            \"symbol\": \"ETH\",\n",
      "            \"website_slug\": \"ethereum\",\n",
      "            \"rank\": 2,\n",
      "            \"circulating_supply\": 117493507,\n",
      "            \"total_supply\": 117493507,\n",
      "            \"max_supply\": 0,\n",
      "            \"quotes\": {\n",
      "                \"USD\": {\n",
      "                    \"price\": 3445.02,\n",
      "                    \"volume_24h\": 19952564947,\n",
      "                    \"market_cap\": 405372235366,\n",
      "                    \"percentage_change_1h\": -0.0079065545151063,\n",
      "                    \"percentage_change_24h\": 3.42522011866107,\n",
      "                    \"percentage_change_7d\": -11.5512330677277,\n",
      "                    \"percent_change_1h\": -0.0079065545151063,\n",
      "                    \"percent_change_24h\": 3.42522011866107,\n",
      "                    \"percent_change_7d\": -11.5512330677277\n",
      "                },\n",
      "                \"CAD\": {\n",
      "                    \"price\": 4372.074882,\n",
      "                    \"volume_24h\": 25321800174.2377,\n",
      "                    \"market_cap\": 514457903902.991,\n",
      "                    \"percent_change_1h\": -0.0079065545151063,\n",
      "                    \"percent_change_24h\": 3.42522011866107,\n",
      "                    \"percent_change_7d\": -11.5512330677277\n",
      "                }\n",
      "            },\n",
      "            \"last_updated\": 1631451899\n",
      "        }\n",
      "    },\n",
      "    \"metadata\": {\n",
      "        \"timestamp\": 1631451899,\n",
      "        \"num_cryptocurrencies\": 3105,\n",
      "        \"error\": null\n",
      "    }\n",
      "}\n"
     ]
    }
   ],
   "metadata": {}
  },
  {
   "cell_type": "code",
   "execution_count": 8,
   "source": [
    "# Select value and store as a variable\r\n",
    "eth_price = eth_data['data']['1027']['quotes']['USD']['price']\r\n",
    "print(eth_price)"
   ],
   "outputs": [
    {
     "output_type": "stream",
     "name": "stdout",
     "text": [
      "3445.02\n"
     ]
    }
   ],
   "metadata": {}
  },
  {
   "cell_type": "code",
   "execution_count": 9,
   "source": [
    "# Compute current value of my crpto\r\n",
    "my_btc_value = my_btc * btc_price\r\n",
    "my_eth_value = my_eth * eth_price\r\n",
    "\r\n",
    "# Print current crypto wallet balance\r\n",
    "print(f\"The current value of your {my_btc} BTC is ${my_btc_value:0.2f}\")\r\n",
    "print(f\"The current value of your {my_eth} ETH is ${my_eth_value:0.2f}\")"
   ],
   "outputs": [
    {
     "output_type": "stream",
     "name": "stdout",
     "text": [
      "The current value of your 1.2 BTC is $55321.20\n",
      "The current value of your 5.3 ETH is $18258.61\n"
     ]
    }
   ],
   "metadata": {}
  },
  {
   "cell_type": "markdown",
   "source": [
    "### Collect Investments Data Using Alpaca: `SPY` (stocks) and `AGG` (bonds)"
   ],
   "metadata": {}
  },
  {
   "cell_type": "code",
   "execution_count": 10,
   "source": [
    "# Set current amount of shares\r\n",
    "my_agg = 200\r\n",
    "my_spy = 50"
   ],
   "outputs": [],
   "metadata": {}
  },
  {
   "cell_type": "code",
   "execution_count": 11,
   "source": [
    "# Set Alpaca API key and secret\r\n",
    "alpaca_api_key = os.getenv(\"ALPACA_API_KEY\")\r\n",
    "alpaca_secret_key = os.getenv(\"ALPACA_SECRET_KEY\")\r\n",
    "\r\n",
    "# Create the Alpaca API object\r\n",
    "alpaca = tradeapi.REST(\r\n",
    "    alpaca_api_key,\r\n",
    "    alpaca_secret_key,\r\n",
    "    api_version=\"v2\")\r\n",
    "    "
   ],
   "outputs": [],
   "metadata": {}
  },
  {
   "cell_type": "code",
   "execution_count": 25,
   "source": [
    "# Format current date as ISO format\r\n",
    "# Set start and end datetimes between now and 3 years ago.\r\n",
    "today = pd.Timestamp(\"2020-09-09\", tz=\"America/New_York\").isoformat()\r\n",
    "# Set the tickers\r\n",
    "tickers = [\"AGG\", \"SPY\"]\r\n",
    "\r\n",
    "# Set timeframe to '1D' for Alpaca API\r\n",
    "timeframe = \"1D\"\r\n",
    "\r\n",
    "# Get current closing prices for SPY and AGG\r\n",
    "# (use a limit=1000 parameter to call the most recent 1000 days of data)\r\n",
    "start_date = pd.Timestamp(\"2018-09-09\", tz=\"America/New_York\").isoformat()\r\n",
    "end_date = pd.Timestamp(\"2021-09-09\", tz=\"America/New_York\").isoformat()\r\n",
    "\r\n",
    "df_ticker = alpaca.get_barset(\r\n",
    "    tickers,\r\n",
    "    timeframe,\r\n",
    "    start=start_date,\r\n",
    "    end=end_date,\r\n",
    "    limit=1000,\r\n",
    ").df\r\n",
    "df_ticker = df_ticker.sort_index(ascending=False)\r\n",
    "\r\n",
    "\r\n",
    "# Preview DataFrame\r\n",
    "df_ticker.head(10)"
   ],
   "outputs": [
    {
     "output_type": "execute_result",
     "data": {
      "text/html": [
       "<div>\n",
       "<style scoped>\n",
       "    .dataframe tbody tr th:only-of-type {\n",
       "        vertical-align: middle;\n",
       "    }\n",
       "\n",
       "    .dataframe tbody tr th {\n",
       "        vertical-align: top;\n",
       "    }\n",
       "\n",
       "    .dataframe thead tr th {\n",
       "        text-align: left;\n",
       "    }\n",
       "\n",
       "    .dataframe thead tr:last-of-type th {\n",
       "        text-align: right;\n",
       "    }\n",
       "</style>\n",
       "<table border=\"1\" class=\"dataframe\">\n",
       "  <thead>\n",
       "    <tr>\n",
       "      <th></th>\n",
       "      <th colspan=\"5\" halign=\"left\">AGG</th>\n",
       "      <th colspan=\"5\" halign=\"left\">SPY</th>\n",
       "    </tr>\n",
       "    <tr>\n",
       "      <th></th>\n",
       "      <th>open</th>\n",
       "      <th>high</th>\n",
       "      <th>low</th>\n",
       "      <th>close</th>\n",
       "      <th>volume</th>\n",
       "      <th>open</th>\n",
       "      <th>high</th>\n",
       "      <th>low</th>\n",
       "      <th>close</th>\n",
       "      <th>volume</th>\n",
       "    </tr>\n",
       "    <tr>\n",
       "      <th>time</th>\n",
       "      <th></th>\n",
       "      <th></th>\n",
       "      <th></th>\n",
       "      <th></th>\n",
       "      <th></th>\n",
       "      <th></th>\n",
       "      <th></th>\n",
       "      <th></th>\n",
       "      <th></th>\n",
       "      <th></th>\n",
       "    </tr>\n",
       "  </thead>\n",
       "  <tbody>\n",
       "    <tr>\n",
       "      <th>2021-09-09 00:00:00-04:00</th>\n",
       "      <td>115.840</td>\n",
       "      <td>116.1470</td>\n",
       "      <td>115.7550</td>\n",
       "      <td>116.100</td>\n",
       "      <td>3232335.0</td>\n",
       "      <td>450.70</td>\n",
       "      <td>452.57</td>\n",
       "      <td>448.7200</td>\n",
       "      <td>448.940</td>\n",
       "      <td>51603442</td>\n",
       "    </tr>\n",
       "    <tr>\n",
       "      <th>2021-09-08 00:00:00-04:00</th>\n",
       "      <td>115.700</td>\n",
       "      <td>115.8200</td>\n",
       "      <td>115.6200</td>\n",
       "      <td>115.740</td>\n",
       "      <td>3084384.0</td>\n",
       "      <td>450.89</td>\n",
       "      <td>451.67</td>\n",
       "      <td>448.8600</td>\n",
       "      <td>450.960</td>\n",
       "      <td>50695626</td>\n",
       "    </tr>\n",
       "    <tr>\n",
       "      <th>2021-09-07 00:00:00-04:00</th>\n",
       "      <td>115.640</td>\n",
       "      <td>115.6457</td>\n",
       "      <td>115.4737</td>\n",
       "      <td>115.550</td>\n",
       "      <td>3190893.0</td>\n",
       "      <td>452.71</td>\n",
       "      <td>452.81</td>\n",
       "      <td>450.7423</td>\n",
       "      <td>451.520</td>\n",
       "      <td>46091753</td>\n",
       "    </tr>\n",
       "    <tr>\n",
       "      <th>2021-09-03 00:00:00-04:00</th>\n",
       "      <td>115.840</td>\n",
       "      <td>115.8900</td>\n",
       "      <td>115.7707</td>\n",
       "      <td>115.850</td>\n",
       "      <td>4172690.0</td>\n",
       "      <td>451.98</td>\n",
       "      <td>453.63</td>\n",
       "      <td>451.5500</td>\n",
       "      <td>453.060</td>\n",
       "      <td>37843082</td>\n",
       "    </tr>\n",
       "    <tr>\n",
       "      <th>2021-09-02 00:00:00-04:00</th>\n",
       "      <td>116.020</td>\n",
       "      <td>116.0600</td>\n",
       "      <td>115.9200</td>\n",
       "      <td>116.060</td>\n",
       "      <td>3735912.0</td>\n",
       "      <td>453.32</td>\n",
       "      <td>454.05</td>\n",
       "      <td>451.9100</td>\n",
       "      <td>453.195</td>\n",
       "      <td>39220785</td>\n",
       "    </tr>\n",
       "    <tr>\n",
       "      <th>2021-09-01 00:00:00-04:00</th>\n",
       "      <td>116.020</td>\n",
       "      <td>116.0200</td>\n",
       "      <td>115.8100</td>\n",
       "      <td>115.915</td>\n",
       "      <td>3822304.0</td>\n",
       "      <td>452.58</td>\n",
       "      <td>453.11</td>\n",
       "      <td>451.5450</td>\n",
       "      <td>451.810</td>\n",
       "      <td>42568610</td>\n",
       "    </tr>\n",
       "    <tr>\n",
       "      <th>2021-08-31 00:00:00-04:00</th>\n",
       "      <td>116.180</td>\n",
       "      <td>116.2850</td>\n",
       "      <td>116.0200</td>\n",
       "      <td>116.070</td>\n",
       "      <td>5628295.0</td>\n",
       "      <td>452.13</td>\n",
       "      <td>452.49</td>\n",
       "      <td>450.9200</td>\n",
       "      <td>451.610</td>\n",
       "      <td>48724399</td>\n",
       "    </tr>\n",
       "    <tr>\n",
       "      <th>2021-08-30 00:00:00-04:00</th>\n",
       "      <td>116.015</td>\n",
       "      <td>116.2200</td>\n",
       "      <td>116.0000</td>\n",
       "      <td>116.210</td>\n",
       "      <td>3261203.0</td>\n",
       "      <td>450.99</td>\n",
       "      <td>453.07</td>\n",
       "      <td>450.7100</td>\n",
       "      <td>452.220</td>\n",
       "      <td>41870839</td>\n",
       "    </tr>\n",
       "    <tr>\n",
       "      <th>2021-08-27 00:00:00-04:00</th>\n",
       "      <td>115.810</td>\n",
       "      <td>116.1000</td>\n",
       "      <td>115.7146</td>\n",
       "      <td>116.100</td>\n",
       "      <td>5361646.0</td>\n",
       "      <td>447.12</td>\n",
       "      <td>450.65</td>\n",
       "      <td>447.0600</td>\n",
       "      <td>450.190</td>\n",
       "      <td>54848833</td>\n",
       "    </tr>\n",
       "    <tr>\n",
       "      <th>2021-08-26 00:00:00-04:00</th>\n",
       "      <td>115.760</td>\n",
       "      <td>115.7900</td>\n",
       "      <td>115.6444</td>\n",
       "      <td>115.785</td>\n",
       "      <td>4730638.0</td>\n",
       "      <td>448.61</td>\n",
       "      <td>448.86</td>\n",
       "      <td>446.1600</td>\n",
       "      <td>446.270</td>\n",
       "      <td>53455704</td>\n",
       "    </tr>\n",
       "  </tbody>\n",
       "</table>\n",
       "</div>"
      ],
      "text/plain": [
       "                               AGG                                          \\\n",
       "                              open      high       low    close     volume   \n",
       "time                                                                         \n",
       "2021-09-09 00:00:00-04:00  115.840  116.1470  115.7550  116.100  3232335.0   \n",
       "2021-09-08 00:00:00-04:00  115.700  115.8200  115.6200  115.740  3084384.0   \n",
       "2021-09-07 00:00:00-04:00  115.640  115.6457  115.4737  115.550  3190893.0   \n",
       "2021-09-03 00:00:00-04:00  115.840  115.8900  115.7707  115.850  4172690.0   \n",
       "2021-09-02 00:00:00-04:00  116.020  116.0600  115.9200  116.060  3735912.0   \n",
       "2021-09-01 00:00:00-04:00  116.020  116.0200  115.8100  115.915  3822304.0   \n",
       "2021-08-31 00:00:00-04:00  116.180  116.2850  116.0200  116.070  5628295.0   \n",
       "2021-08-30 00:00:00-04:00  116.015  116.2200  116.0000  116.210  3261203.0   \n",
       "2021-08-27 00:00:00-04:00  115.810  116.1000  115.7146  116.100  5361646.0   \n",
       "2021-08-26 00:00:00-04:00  115.760  115.7900  115.6444  115.785  4730638.0   \n",
       "\n",
       "                              SPY                                       \n",
       "                             open    high       low    close    volume  \n",
       "time                                                                    \n",
       "2021-09-09 00:00:00-04:00  450.70  452.57  448.7200  448.940  51603442  \n",
       "2021-09-08 00:00:00-04:00  450.89  451.67  448.8600  450.960  50695626  \n",
       "2021-09-07 00:00:00-04:00  452.71  452.81  450.7423  451.520  46091753  \n",
       "2021-09-03 00:00:00-04:00  451.98  453.63  451.5500  453.060  37843082  \n",
       "2021-09-02 00:00:00-04:00  453.32  454.05  451.9100  453.195  39220785  \n",
       "2021-09-01 00:00:00-04:00  452.58  453.11  451.5450  451.810  42568610  \n",
       "2021-08-31 00:00:00-04:00  452.13  452.49  450.9200  451.610  48724399  \n",
       "2021-08-30 00:00:00-04:00  450.99  453.07  450.7100  452.220  41870839  \n",
       "2021-08-27 00:00:00-04:00  447.12  450.65  447.0600  450.190  54848833  \n",
       "2021-08-26 00:00:00-04:00  448.61  448.86  446.1600  446.270  53455704  "
      ]
     },
     "metadata": {},
     "execution_count": 25
    }
   ],
   "metadata": {}
  },
  {
   "cell_type": "code",
   "execution_count": 28,
   "source": [
    "# Pick AGG and SPY close prices\r\n",
    "agg_close_price = df_ticker[\"AGG\"][\"close\"][0]\r\n",
    "spy_close_price = df_ticker[\"SPY\"][\"close\"][0]\r\n",
    "\r\n",
    "\r\n",
    "# Print AGG and SPY close prices\r\n",
    "print(f\"Current AGG closing price: ${agg_close_price:0.2f}\")\r\n",
    "print(f\"Current SPY closing price: ${spy_close_price:0.2f}\")"
   ],
   "outputs": [
    {
     "output_type": "stream",
     "name": "stdout",
     "text": [
      "Current AGG closing price: $116.10\n",
      "Current SPY closing price: $448.94\n"
     ]
    }
   ],
   "metadata": {}
  },
  {
   "cell_type": "code",
   "execution_count": 29,
   "source": [
    "# Compute the current value of shares\r\n",
    "my_agg_value = agg_close_price * my_agg\r\n",
    "my_spy_value = spy_close_price * my_spy\r\n",
    "\r\n",
    "# Print current value of shares\r\n",
    "print(f\"The current value of your {my_spy} SPY shares is ${my_spy_value:0.2f}\")\r\n",
    "print(f\"The current value of your {my_agg} AGG shares is ${my_agg_value:0.2f}\")"
   ],
   "outputs": [
    {
     "output_type": "stream",
     "name": "stdout",
     "text": [
      "The current value of your 50 SPY shares is $22447.00\n",
      "The current value of your 200 AGG shares is $23220.00\n"
     ]
    }
   ],
   "metadata": {}
  },
  {
   "cell_type": "markdown",
   "source": [
    "### Savings Health Analysis"
   ],
   "metadata": {}
  },
  {
   "cell_type": "code",
   "execution_count": 30,
   "source": [
    "# Set monthly household income\r\n",
    "monthly_income = 12000\r\n",
    "# Set variables for total value of cryptos and shares\r\n",
    "crypto_total_value = my_btc_value + my_eth_value\r\n",
    "shares_total_value = my_agg_value + my_spy_value\r\n",
    "\r\n",
    "print(crypto_total_value)\r\n",
    "print(shares_total_value)"
   ],
   "outputs": [
    {
     "output_type": "stream",
     "name": "stdout",
     "text": [
      "73579.806\n",
      "45667.0\n"
     ]
    }
   ],
   "metadata": {}
  },
  {
   "cell_type": "code",
   "execution_count": 33,
   "source": [
    "# Consolidate financial assets data\r\n",
    "all_data = {\r\n",
    "    \"Amount\": [crypto_total_value, shares_total_value]\r\n",
    "}\r\n",
    "\r\n",
    "# Set the crypto tickers\r\n",
    "savings = [\"Crypto\", \"Shares\"]\r\n",
    "\r\n",
    "# Create savings DataFrame\r\n",
    "df_savings = pd.DataFrame(all_data, index=savings)\r\n",
    "\r\n",
    "# Display savings DataFrame\r\n",
    "display(df_savings)"
   ],
   "outputs": [
    {
     "output_type": "display_data",
     "data": {
      "text/html": [
       "<div>\n",
       "<style scoped>\n",
       "    .dataframe tbody tr th:only-of-type {\n",
       "        vertical-align: middle;\n",
       "    }\n",
       "\n",
       "    .dataframe tbody tr th {\n",
       "        vertical-align: top;\n",
       "    }\n",
       "\n",
       "    .dataframe thead th {\n",
       "        text-align: right;\n",
       "    }\n",
       "</style>\n",
       "<table border=\"1\" class=\"dataframe\">\n",
       "  <thead>\n",
       "    <tr style=\"text-align: right;\">\n",
       "      <th></th>\n",
       "      <th>Amount</th>\n",
       "    </tr>\n",
       "  </thead>\n",
       "  <tbody>\n",
       "    <tr>\n",
       "      <th>Crypto</th>\n",
       "      <td>73579.806</td>\n",
       "    </tr>\n",
       "    <tr>\n",
       "      <th>Shares</th>\n",
       "      <td>45667.000</td>\n",
       "    </tr>\n",
       "  </tbody>\n",
       "</table>\n",
       "</div>"
      ],
      "text/plain": [
       "           Amount\n",
       "Crypto  73579.806\n",
       "Shares  45667.000"
      ]
     },
     "metadata": {}
    }
   ],
   "metadata": {}
  },
  {
   "cell_type": "code",
   "execution_count": 34,
   "source": [
    "# Plot savings pie chart\r\n",
    "df_savings.plot.pie(y='Amount', title='Composition of personal savings')"
   ],
   "outputs": [
    {
     "output_type": "execute_result",
     "data": {
      "text/plain": [
       "<AxesSubplot:title={'center':'Composition of personal savings'}, ylabel='Amount'>"
      ]
     },
     "metadata": {},
     "execution_count": 34
    },
    {
     "output_type": "display_data",
     "data": {
      "image/png": "[encoded data removed]",
      "text/plain": [
       "<Figure size 432x288 with 1 Axes>"
      ]
     },
     "metadata": {}
    }
   ],
   "metadata": {}
  },
  {
   "cell_type": "code",
   "execution_count": 37,
   "source": [
    "# Set ideal emergency fund\r\n",
    "emergency_fund = monthly_income * 3\r\n",
    "\r\n",
    "# Calculate total amount of savings\r\n",
    "total_savings = crypto_total_value + shares_total_value\r\n",
    "\r\n",
    "# Validate saving health\r\n",
    "if total_savings > emergency_fund:\r\n",
    "    print('Congratulations you have more than enough current savings in this emergency fund.')\r\n",
    "elif total_savings == emergency_fund:\r\n",
    "    print('Congratulations on reaching this financial goal.')\r\n",
    "elif total_savings < emergency_fund:\r\n",
    "    print(f'You are: ${(emergency_fund - total_savings)} from reaching your goal.')"
   ],
   "outputs": [
    {
     "output_type": "stream",
     "name": "stdout",
     "text": [
      "Congratulations you have more than enough current savings in this emergency fund.\n"
     ]
    }
   ],
   "metadata": {}
  },
  {
   "cell_type": "markdown",
   "source": [
    "## Part 2 - Retirement Planning\n",
    "\n",
    "### Monte Carlo Simulation"
   ],
   "metadata": {}
  },
  {
   "cell_type": "code",
   "execution_count": 38,
   "source": [
    "# Set start and end dates of five years back from today.\r\n",
    "# Sample results may vary from the solution based on the time frame chosen\r\n",
    "start_date = pd.Timestamp('2016-09-09', tz='America/New_York').isoformat()\r\n",
    "end_date = pd.Timestamp('2021-09-09', tz='America/New_York').isoformat()"
   ],
   "outputs": [],
   "metadata": {}
  },
  {
   "cell_type": "code",
   "execution_count": 54,
   "source": [
    "# Get 5 years' worth of historical data for SPY and AGG\r\n",
    "# (use a limit=1000 parameter to call the most recent 1000 days of data)\r\n",
    "\r\n",
    "df_stock_data = alpaca.get_barset(\r\n",
    "    tickers,\r\n",
    "    timeframe,\r\n",
    "    start=start_date,\r\n",
    "    end=end_date,\r\n",
    "    limit=1000,\r\n",
    ").df\r\n",
    "\r\n",
    "# Display sample data\r\n",
    "df_stock_data.head()"
   ],
   "outputs": [
    {
     "output_type": "execute_result",
     "data": {
      "text/html": [
       "<div>\n",
       "<style scoped>\n",
       "    .dataframe tbody tr th:only-of-type {\n",
       "        vertical-align: middle;\n",
       "    }\n",
       "\n",
       "    .dataframe tbody tr th {\n",
       "        vertical-align: top;\n",
       "    }\n",
       "\n",
       "    .dataframe thead tr th {\n",
       "        text-align: left;\n",
       "    }\n",
       "\n",
       "    .dataframe thead tr:last-of-type th {\n",
       "        text-align: right;\n",
       "    }\n",
       "</style>\n",
       "<table border=\"1\" class=\"dataframe\">\n",
       "  <thead>\n",
       "    <tr>\n",
       "      <th></th>\n",
       "      <th colspan=\"5\" halign=\"left\">AGG</th>\n",
       "      <th colspan=\"5\" halign=\"left\">SPY</th>\n",
       "    </tr>\n",
       "    <tr>\n",
       "      <th></th>\n",
       "      <th>open</th>\n",
       "      <th>high</th>\n",
       "      <th>low</th>\n",
       "      <th>close</th>\n",
       "      <th>volume</th>\n",
       "      <th>open</th>\n",
       "      <th>high</th>\n",
       "      <th>low</th>\n",
       "      <th>close</th>\n",
       "      <th>volume</th>\n",
       "    </tr>\n",
       "    <tr>\n",
       "      <th>time</th>\n",
       "      <th></th>\n",
       "      <th></th>\n",
       "      <th></th>\n",
       "      <th></th>\n",
       "      <th></th>\n",
       "      <th></th>\n",
       "      <th></th>\n",
       "      <th></th>\n",
       "      <th></th>\n",
       "      <th></th>\n",
       "    </tr>\n",
       "  </thead>\n",
       "  <tbody>\n",
       "    <tr>\n",
       "      <th>2017-09-19 00:00:00-04:00</th>\n",
       "      <td>109.91</td>\n",
       "      <td>109.9100</td>\n",
       "      <td>109.785</td>\n",
       "      <td>109.820</td>\n",
       "      <td>1220416.0</td>\n",
       "      <td>NaN</td>\n",
       "      <td>NaN</td>\n",
       "      <td>NaN</td>\n",
       "      <td>NaN</td>\n",
       "      <td>NaN</td>\n",
       "    </tr>\n",
       "    <tr>\n",
       "      <th>2017-09-20 00:00:00-04:00</th>\n",
       "      <td>109.84</td>\n",
       "      <td>109.9194</td>\n",
       "      <td>109.590</td>\n",
       "      <td>109.700</td>\n",
       "      <td>1216139.0</td>\n",
       "      <td>250.06</td>\n",
       "      <td>250.1900</td>\n",
       "      <td>248.920</td>\n",
       "      <td>250.09</td>\n",
       "      <td>42770537.0</td>\n",
       "    </tr>\n",
       "    <tr>\n",
       "      <th>2017-09-21 00:00:00-04:00</th>\n",
       "      <td>109.82</td>\n",
       "      <td>109.8500</td>\n",
       "      <td>109.680</td>\n",
       "      <td>109.680</td>\n",
       "      <td>2102279.0</td>\n",
       "      <td>249.89</td>\n",
       "      <td>249.9800</td>\n",
       "      <td>249.185</td>\n",
       "      <td>249.40</td>\n",
       "      <td>29220256.0</td>\n",
       "    </tr>\n",
       "    <tr>\n",
       "      <th>2017-09-22 00:00:00-04:00</th>\n",
       "      <td>109.86</td>\n",
       "      <td>109.9000</td>\n",
       "      <td>109.750</td>\n",
       "      <td>109.785</td>\n",
       "      <td>1325024.0</td>\n",
       "      <td>249.05</td>\n",
       "      <td>249.6300</td>\n",
       "      <td>249.020</td>\n",
       "      <td>249.42</td>\n",
       "      <td>31078666.0</td>\n",
       "    </tr>\n",
       "    <tr>\n",
       "      <th>2017-09-25 00:00:00-04:00</th>\n",
       "      <td>109.85</td>\n",
       "      <td>110.0400</td>\n",
       "      <td>109.820</td>\n",
       "      <td>110.025</td>\n",
       "      <td>3031529.0</td>\n",
       "      <td>249.14</td>\n",
       "      <td>249.5532</td>\n",
       "      <td>248.080</td>\n",
       "      <td>248.94</td>\n",
       "      <td>42826453.0</td>\n",
       "    </tr>\n",
       "  </tbody>\n",
       "</table>\n",
       "</div>"
      ],
      "text/plain": [
       "                              AGG                                         \\\n",
       "                             open      high      low    close     volume   \n",
       "time                                                                       \n",
       "2017-09-19 00:00:00-04:00  109.91  109.9100  109.785  109.820  1220416.0   \n",
       "2017-09-20 00:00:00-04:00  109.84  109.9194  109.590  109.700  1216139.0   \n",
       "2017-09-21 00:00:00-04:00  109.82  109.8500  109.680  109.680  2102279.0   \n",
       "2017-09-22 00:00:00-04:00  109.86  109.9000  109.750  109.785  1325024.0   \n",
       "2017-09-25 00:00:00-04:00  109.85  110.0400  109.820  110.025  3031529.0   \n",
       "\n",
       "                              SPY                                         \n",
       "                             open      high      low   close      volume  \n",
       "time                                                                      \n",
       "2017-09-19 00:00:00-04:00     NaN       NaN      NaN     NaN         NaN  \n",
       "2017-09-20 00:00:00-04:00  250.06  250.1900  248.920  250.09  42770537.0  \n",
       "2017-09-21 00:00:00-04:00  249.89  249.9800  249.185  249.40  29220256.0  \n",
       "2017-09-22 00:00:00-04:00  249.05  249.6300  249.020  249.42  31078666.0  \n",
       "2017-09-25 00:00:00-04:00  249.14  249.5532  248.080  248.94  42826453.0  "
      ]
     },
     "metadata": {},
     "execution_count": 54
    }
   ],
   "metadata": {}
  },
  {
   "cell_type": "code",
   "execution_count": 58,
   "source": [
    "# Configuring a Monte Carlo simulation to forecast 30 years cumulative returns\r\n",
    "# Set number of simulations\r\n",
    "num_sims = 500\r\n",
    "\r\n",
    "MC_thirty_year = MCSimulation(\r\n",
    "    portfolio_data = df_stock_data,\r\n",
    "    weights = [.40, .60],\r\n",
    "    num_simulation = num_sims,\r\n",
    "    num_trading_days = 252 * 30\r\n",
    ")\r\n",
    "\r\n",
    "# Print the simulation input data\r\n",
    "MC_thirty_year.portfolio_data.head()"
   ],
   "outputs": [
    {
     "output_type": "execute_result",
     "data": {
      "text/html": [
       "<div>\n",
       "<style scoped>\n",
       "    .dataframe tbody tr th:only-of-type {\n",
       "        vertical-align: middle;\n",
       "    }\n",
       "\n",
       "    .dataframe tbody tr th {\n",
       "        vertical-align: top;\n",
       "    }\n",
       "\n",
       "    .dataframe thead tr th {\n",
       "        text-align: left;\n",
       "    }\n",
       "\n",
       "    .dataframe thead tr:last-of-type th {\n",
       "        text-align: right;\n",
       "    }\n",
       "</style>\n",
       "<table border=\"1\" class=\"dataframe\">\n",
       "  <thead>\n",
       "    <tr>\n",
       "      <th></th>\n",
       "      <th colspan=\"6\" halign=\"left\">AGG</th>\n",
       "      <th colspan=\"6\" halign=\"left\">SPY</th>\n",
       "    </tr>\n",
       "    <tr>\n",
       "      <th></th>\n",
       "      <th>open</th>\n",
       "      <th>high</th>\n",
       "      <th>low</th>\n",
       "      <th>close</th>\n",
       "      <th>volume</th>\n",
       "      <th>daily_return</th>\n",
       "      <th>open</th>\n",
       "      <th>high</th>\n",
       "      <th>low</th>\n",
       "      <th>close</th>\n",
       "      <th>volume</th>\n",
       "      <th>daily_return</th>\n",
       "    </tr>\n",
       "    <tr>\n",
       "      <th>time</th>\n",
       "      <th></th>\n",
       "      <th></th>\n",
       "      <th></th>\n",
       "      <th></th>\n",
       "      <th></th>\n",
       "      <th></th>\n",
       "      <th></th>\n",
       "      <th></th>\n",
       "      <th></th>\n",
       "      <th></th>\n",
       "      <th></th>\n",
       "      <th></th>\n",
       "    </tr>\n",
       "  </thead>\n",
       "  <tbody>\n",
       "    <tr>\n",
       "      <th>2017-09-19 00:00:00-04:00</th>\n",
       "      <td>109.91</td>\n",
       "      <td>109.9100</td>\n",
       "      <td>109.785</td>\n",
       "      <td>109.820</td>\n",
       "      <td>1220416.0</td>\n",
       "      <td>NaN</td>\n",
       "      <td>NaN</td>\n",
       "      <td>NaN</td>\n",
       "      <td>NaN</td>\n",
       "      <td>NaN</td>\n",
       "      <td>NaN</td>\n",
       "      <td>NaN</td>\n",
       "    </tr>\n",
       "    <tr>\n",
       "      <th>2017-09-20 00:00:00-04:00</th>\n",
       "      <td>109.84</td>\n",
       "      <td>109.9194</td>\n",
       "      <td>109.590</td>\n",
       "      <td>109.700</td>\n",
       "      <td>1216139.0</td>\n",
       "      <td>-0.001093</td>\n",
       "      <td>250.06</td>\n",
       "      <td>250.1900</td>\n",
       "      <td>248.920</td>\n",
       "      <td>250.09</td>\n",
       "      <td>42770537.0</td>\n",
       "      <td>NaN</td>\n",
       "    </tr>\n",
       "    <tr>\n",
       "      <th>2017-09-21 00:00:00-04:00</th>\n",
       "      <td>109.82</td>\n",
       "      <td>109.8500</td>\n",
       "      <td>109.680</td>\n",
       "      <td>109.680</td>\n",
       "      <td>2102279.0</td>\n",
       "      <td>-0.000182</td>\n",
       "      <td>249.89</td>\n",
       "      <td>249.9800</td>\n",
       "      <td>249.185</td>\n",
       "      <td>249.40</td>\n",
       "      <td>29220256.0</td>\n",
       "      <td>-0.002759</td>\n",
       "    </tr>\n",
       "    <tr>\n",
       "      <th>2017-09-22 00:00:00-04:00</th>\n",
       "      <td>109.86</td>\n",
       "      <td>109.9000</td>\n",
       "      <td>109.750</td>\n",
       "      <td>109.785</td>\n",
       "      <td>1325024.0</td>\n",
       "      <td>0.000957</td>\n",
       "      <td>249.05</td>\n",
       "      <td>249.6300</td>\n",
       "      <td>249.020</td>\n",
       "      <td>249.42</td>\n",
       "      <td>31078666.0</td>\n",
       "      <td>0.000080</td>\n",
       "    </tr>\n",
       "    <tr>\n",
       "      <th>2017-09-25 00:00:00-04:00</th>\n",
       "      <td>109.85</td>\n",
       "      <td>110.0400</td>\n",
       "      <td>109.820</td>\n",
       "      <td>110.025</td>\n",
       "      <td>3031529.0</td>\n",
       "      <td>0.002186</td>\n",
       "      <td>249.14</td>\n",
       "      <td>249.5532</td>\n",
       "      <td>248.080</td>\n",
       "      <td>248.94</td>\n",
       "      <td>42826453.0</td>\n",
       "      <td>-0.001924</td>\n",
       "    </tr>\n",
       "  </tbody>\n",
       "</table>\n",
       "</div>"
      ],
      "text/plain": [
       "                              AGG                                         \\\n",
       "                             open      high      low    close     volume   \n",
       "time                                                                       \n",
       "2017-09-19 00:00:00-04:00  109.91  109.9100  109.785  109.820  1220416.0   \n",
       "2017-09-20 00:00:00-04:00  109.84  109.9194  109.590  109.700  1216139.0   \n",
       "2017-09-21 00:00:00-04:00  109.82  109.8500  109.680  109.680  2102279.0   \n",
       "2017-09-22 00:00:00-04:00  109.86  109.9000  109.750  109.785  1325024.0   \n",
       "2017-09-25 00:00:00-04:00  109.85  110.0400  109.820  110.025  3031529.0   \n",
       "\n",
       "                                           SPY                             \\\n",
       "                          daily_return    open      high      low   close   \n",
       "time                                                                        \n",
       "2017-09-19 00:00:00-04:00          NaN     NaN       NaN      NaN     NaN   \n",
       "2017-09-20 00:00:00-04:00    -0.001093  250.06  250.1900  248.920  250.09   \n",
       "2017-09-21 00:00:00-04:00    -0.000182  249.89  249.9800  249.185  249.40   \n",
       "2017-09-22 00:00:00-04:00     0.000957  249.05  249.6300  249.020  249.42   \n",
       "2017-09-25 00:00:00-04:00     0.002186  249.14  249.5532  248.080  248.94   \n",
       "\n",
       "                                                    \n",
       "                               volume daily_return  \n",
       "time                                                \n",
       "2017-09-19 00:00:00-04:00         NaN          NaN  \n",
       "2017-09-20 00:00:00-04:00  42770537.0          NaN  \n",
       "2017-09-21 00:00:00-04:00  29220256.0    -0.002759  \n",
       "2017-09-22 00:00:00-04:00  31078666.0     0.000080  \n",
       "2017-09-25 00:00:00-04:00  42826453.0    -0.001924  "
      ]
     },
     "metadata": {},
     "execution_count": 58
    }
   ],
   "metadata": {}
  },
  {
   "cell_type": "code",
   "execution_count": 59,
   "source": [
    "# Running a Monte Carlo simulation to forecast 30 years cumulative returns\r\n",
    "MC_thirty_year.calc_cumulative_return()"
   ],
   "outputs": [
    {
     "output_type": "stream",
     "name": "stdout",
     "text": [
      "Running Monte Carlo simulation number 0.\n",
      "Running Monte Carlo simulation number 10.\n",
      "Running Monte Carlo simulation number 20.\n",
      "Running Monte Carlo simulation number 30.\n",
      "Running Monte Carlo simulation number 40.\n",
      "Running Monte Carlo simulation number 50.\n",
      "Running Monte Carlo simulation number 60.\n",
      "Running Monte Carlo simulation number 70.\n",
      "Running Monte Carlo simulation number 80.\n",
      "Running Monte Carlo simulation number 90.\n",
      "Running Monte Carlo simulation number 100.\n"
     ]
    },
    {
     "output_type": "stream",
     "name": "stderr",
     "text": [
      "c:\\Users\\ljmac\\Desktop\\gitrepo\\financial_planning\\MCForecastTools.py:117: PerformanceWarning: DataFrame is highly fragmented.  This is usually the result of calling `frame.insert` many times, which has poor performance.  Consider joining all columns at once using pd.concat(axis=1) instead.  To get a de-fragmented frame, use `newframe = frame.copy()`\n",
      "  portfolio_cumulative_returns[n] = (1 + sim_df.fillna(0)).cumprod()\n"
     ]
    },
    {
     "output_type": "stream",
     "name": "stdout",
     "text": [
      "Running Monte Carlo simulation number 110.\n",
      "Running Monte Carlo simulation number 120.\n",
      "Running Monte Carlo simulation number 130.\n",
      "Running Monte Carlo simulation number 140.\n",
      "Running Monte Carlo simulation number 150.\n",
      "Running Monte Carlo simulation number 160.\n",
      "Running Monte Carlo simulation number 170.\n",
      "Running Monte Carlo simulation number 180.\n",
      "Running Monte Carlo simulation number 190.\n",
      "Running Monte Carlo simulation number 200.\n",
      "Running Monte Carlo simulation number 210.\n",
      "Running Monte Carlo simulation number 220.\n",
      "Running Monte Carlo simulation number 230.\n",
      "Running Monte Carlo simulation number 240.\n",
      "Running Monte Carlo simulation number 250.\n",
      "Running Monte Carlo simulation number 260.\n",
      "Running Monte Carlo simulation number 270.\n",
      "Running Monte Carlo simulation number 280.\n",
      "Running Monte Carlo simulation number 290.\n",
      "Running Monte Carlo simulation number 300.\n",
      "Running Monte Carlo simulation number 310.\n",
      "Running Monte Carlo simulation number 320.\n",
      "Running Monte Carlo simulation number 330.\n",
      "Running Monte Carlo simulation number 340.\n",
      "Running Monte Carlo simulation number 350.\n",
      "Running Monte Carlo simulation number 360.\n",
      "Running Monte Carlo simulation number 370.\n",
      "Running Monte Carlo simulation number 380.\n",
      "Running Monte Carlo simulation number 390.\n",
      "Running Monte Carlo simulation number 400.\n",
      "Running Monte Carlo simulation number 410.\n",
      "Running Monte Carlo simulation number 420.\n",
      "Running Monte Carlo simulation number 430.\n",
      "Running Monte Carlo simulation number 440.\n",
      "Running Monte Carlo simulation number 450.\n",
      "Running Monte Carlo simulation number 460.\n",
      "Running Monte Carlo simulation number 470.\n",
      "Running Monte Carlo simulation number 480.\n",
      "Running Monte Carlo simulation number 490.\n"
     ]
    },
    {
     "output_type": "execute_result",
     "data": {
      "text/html": [
       "<div>\n",
       "<style scoped>\n",
       "    .dataframe tbody tr th:only-of-type {\n",
       "        vertical-align: middle;\n",
       "    }\n",
       "\n",
       "    .dataframe tbody tr th {\n",
       "        vertical-align: top;\n",
       "    }\n",
       "\n",
       "    .dataframe thead th {\n",
       "        text-align: right;\n",
       "    }\n",
       "</style>\n",
       "<table border=\"1\" class=\"dataframe\">\n",
       "  <thead>\n",
       "    <tr style=\"text-align: right;\">\n",
       "      <th></th>\n",
       "      <th>0</th>\n",
       "      <th>1</th>\n",
       "      <th>2</th>\n",
       "      <th>3</th>\n",
       "      <th>4</th>\n",
       "      <th>5</th>\n",
       "      <th>6</th>\n",
       "      <th>7</th>\n",
       "      <th>8</th>\n",
       "      <th>9</th>\n",
       "      <th>...</th>\n",
       "      <th>490</th>\n",
       "      <th>491</th>\n",
       "      <th>492</th>\n",
       "      <th>493</th>\n",
       "      <th>494</th>\n",
       "      <th>495</th>\n",
       "      <th>496</th>\n",
       "      <th>497</th>\n",
       "      <th>498</th>\n",
       "      <th>499</th>\n",
       "    </tr>\n",
       "  </thead>\n",
       "  <tbody>\n",
       "    <tr>\n",
       "      <th>0</th>\n",
       "      <td>1.000000</td>\n",
       "      <td>1.000000</td>\n",
       "      <td>1.000000</td>\n",
       "      <td>1.000000</td>\n",
       "      <td>1.000000</td>\n",
       "      <td>1.000000</td>\n",
       "      <td>1.000000</td>\n",
       "      <td>1.000000</td>\n",
       "      <td>1.000000</td>\n",
       "      <td>1.000000</td>\n",
       "      <td>...</td>\n",
       "      <td>1.000000</td>\n",
       "      <td>1.000000</td>\n",
       "      <td>1.000000</td>\n",
       "      <td>1.000000</td>\n",
       "      <td>1.000000</td>\n",
       "      <td>1.000000</td>\n",
       "      <td>1.000000</td>\n",
       "      <td>1.000000</td>\n",
       "      <td>1.000000</td>\n",
       "      <td>1.000000</td>\n",
       "    </tr>\n",
       "    <tr>\n",
       "      <th>1</th>\n",
       "      <td>0.997813</td>\n",
       "      <td>0.994182</td>\n",
       "      <td>0.996841</td>\n",
       "      <td>1.000815</td>\n",
       "      <td>0.993877</td>\n",
       "      <td>1.011558</td>\n",
       "      <td>1.011017</td>\n",
       "      <td>1.004561</td>\n",
       "      <td>0.982859</td>\n",
       "      <td>0.992410</td>\n",
       "      <td>...</td>\n",
       "      <td>1.006630</td>\n",
       "      <td>0.993606</td>\n",
       "      <td>1.009260</td>\n",
       "      <td>0.992078</td>\n",
       "      <td>1.010468</td>\n",
       "      <td>0.997208</td>\n",
       "      <td>0.995662</td>\n",
       "      <td>1.003058</td>\n",
       "      <td>0.997429</td>\n",
       "      <td>1.001017</td>\n",
       "    </tr>\n",
       "    <tr>\n",
       "      <th>2</th>\n",
       "      <td>1.005940</td>\n",
       "      <td>1.014182</td>\n",
       "      <td>0.995424</td>\n",
       "      <td>1.003045</td>\n",
       "      <td>1.011424</td>\n",
       "      <td>1.010491</td>\n",
       "      <td>1.018200</td>\n",
       "      <td>1.007264</td>\n",
       "      <td>0.981482</td>\n",
       "      <td>0.983004</td>\n",
       "      <td>...</td>\n",
       "      <td>1.003593</td>\n",
       "      <td>1.003507</td>\n",
       "      <td>1.006736</td>\n",
       "      <td>1.001432</td>\n",
       "      <td>1.023214</td>\n",
       "      <td>0.999451</td>\n",
       "      <td>1.004648</td>\n",
       "      <td>1.011834</td>\n",
       "      <td>0.990319</td>\n",
       "      <td>0.994927</td>\n",
       "    </tr>\n",
       "    <tr>\n",
       "      <th>3</th>\n",
       "      <td>0.996358</td>\n",
       "      <td>1.021190</td>\n",
       "      <td>0.996365</td>\n",
       "      <td>1.001013</td>\n",
       "      <td>1.000725</td>\n",
       "      <td>1.015535</td>\n",
       "      <td>1.011399</td>\n",
       "      <td>1.013981</td>\n",
       "      <td>0.975787</td>\n",
       "      <td>0.976523</td>\n",
       "      <td>...</td>\n",
       "      <td>1.004521</td>\n",
       "      <td>1.004264</td>\n",
       "      <td>1.001734</td>\n",
       "      <td>0.999318</td>\n",
       "      <td>1.024994</td>\n",
       "      <td>1.001439</td>\n",
       "      <td>1.005225</td>\n",
       "      <td>1.020582</td>\n",
       "      <td>0.996165</td>\n",
       "      <td>0.996610</td>\n",
       "    </tr>\n",
       "    <tr>\n",
       "      <th>4</th>\n",
       "      <td>0.998703</td>\n",
       "      <td>1.020729</td>\n",
       "      <td>1.011895</td>\n",
       "      <td>1.006801</td>\n",
       "      <td>1.004224</td>\n",
       "      <td>1.004654</td>\n",
       "      <td>1.012800</td>\n",
       "      <td>1.011520</td>\n",
       "      <td>0.986933</td>\n",
       "      <td>0.965316</td>\n",
       "      <td>...</td>\n",
       "      <td>1.002242</td>\n",
       "      <td>0.988269</td>\n",
       "      <td>0.998040</td>\n",
       "      <td>1.001311</td>\n",
       "      <td>1.031508</td>\n",
       "      <td>1.015652</td>\n",
       "      <td>1.003799</td>\n",
       "      <td>1.022125</td>\n",
       "      <td>1.006690</td>\n",
       "      <td>1.008479</td>\n",
       "    </tr>\n",
       "    <tr>\n",
       "      <th>...</th>\n",
       "      <td>...</td>\n",
       "      <td>...</td>\n",
       "      <td>...</td>\n",
       "      <td>...</td>\n",
       "      <td>...</td>\n",
       "      <td>...</td>\n",
       "      <td>...</td>\n",
       "      <td>...</td>\n",
       "      <td>...</td>\n",
       "      <td>...</td>\n",
       "      <td>...</td>\n",
       "      <td>...</td>\n",
       "      <td>...</td>\n",
       "      <td>...</td>\n",
       "      <td>...</td>\n",
       "      <td>...</td>\n",
       "      <td>...</td>\n",
       "      <td>...</td>\n",
       "      <td>...</td>\n",
       "      <td>...</td>\n",
       "      <td>...</td>\n",
       "    </tr>\n",
       "    <tr>\n",
       "      <th>7556</th>\n",
       "      <td>13.927340</td>\n",
       "      <td>17.611500</td>\n",
       "      <td>12.971587</td>\n",
       "      <td>27.450786</td>\n",
       "      <td>16.297953</td>\n",
       "      <td>8.911506</td>\n",
       "      <td>56.441854</td>\n",
       "      <td>21.447309</td>\n",
       "      <td>17.084313</td>\n",
       "      <td>14.134376</td>\n",
       "      <td>...</td>\n",
       "      <td>9.773582</td>\n",
       "      <td>23.066987</td>\n",
       "      <td>48.368001</td>\n",
       "      <td>8.951005</td>\n",
       "      <td>11.795768</td>\n",
       "      <td>22.700076</td>\n",
       "      <td>26.114659</td>\n",
       "      <td>74.378488</td>\n",
       "      <td>12.159723</td>\n",
       "      <td>7.575824</td>\n",
       "    </tr>\n",
       "    <tr>\n",
       "      <th>7557</th>\n",
       "      <td>13.883077</td>\n",
       "      <td>17.702965</td>\n",
       "      <td>13.185126</td>\n",
       "      <td>27.061104</td>\n",
       "      <td>16.221041</td>\n",
       "      <td>8.897768</td>\n",
       "      <td>56.606424</td>\n",
       "      <td>21.681701</td>\n",
       "      <td>17.448136</td>\n",
       "      <td>14.132727</td>\n",
       "      <td>...</td>\n",
       "      <td>9.784277</td>\n",
       "      <td>22.910300</td>\n",
       "      <td>47.051534</td>\n",
       "      <td>8.840814</td>\n",
       "      <td>11.762508</td>\n",
       "      <td>22.857250</td>\n",
       "      <td>26.240328</td>\n",
       "      <td>74.435712</td>\n",
       "      <td>12.121250</td>\n",
       "      <td>7.572104</td>\n",
       "    </tr>\n",
       "    <tr>\n",
       "      <th>7558</th>\n",
       "      <td>13.663326</td>\n",
       "      <td>17.629555</td>\n",
       "      <td>13.123343</td>\n",
       "      <td>27.021507</td>\n",
       "      <td>16.111099</td>\n",
       "      <td>8.900393</td>\n",
       "      <td>56.873941</td>\n",
       "      <td>21.616856</td>\n",
       "      <td>17.606267</td>\n",
       "      <td>14.168747</td>\n",
       "      <td>...</td>\n",
       "      <td>9.764291</td>\n",
       "      <td>23.079732</td>\n",
       "      <td>47.522083</td>\n",
       "      <td>8.875249</td>\n",
       "      <td>11.784688</td>\n",
       "      <td>22.726271</td>\n",
       "      <td>26.060762</td>\n",
       "      <td>75.603492</td>\n",
       "      <td>12.086500</td>\n",
       "      <td>7.628918</td>\n",
       "    </tr>\n",
       "    <tr>\n",
       "      <th>7559</th>\n",
       "      <td>13.657368</td>\n",
       "      <td>17.551388</td>\n",
       "      <td>13.184516</td>\n",
       "      <td>27.011546</td>\n",
       "      <td>16.067645</td>\n",
       "      <td>8.870551</td>\n",
       "      <td>56.805111</td>\n",
       "      <td>21.548994</td>\n",
       "      <td>17.589980</td>\n",
       "      <td>14.074410</td>\n",
       "      <td>...</td>\n",
       "      <td>9.901241</td>\n",
       "      <td>23.141603</td>\n",
       "      <td>47.914237</td>\n",
       "      <td>8.887991</td>\n",
       "      <td>11.980079</td>\n",
       "      <td>22.634277</td>\n",
       "      <td>26.150429</td>\n",
       "      <td>74.795605</td>\n",
       "      <td>11.978095</td>\n",
       "      <td>7.693401</td>\n",
       "    </tr>\n",
       "    <tr>\n",
       "      <th>7560</th>\n",
       "      <td>13.582507</td>\n",
       "      <td>17.679164</td>\n",
       "      <td>13.154101</td>\n",
       "      <td>26.755630</td>\n",
       "      <td>16.241510</td>\n",
       "      <td>8.882276</td>\n",
       "      <td>56.238902</td>\n",
       "      <td>21.529109</td>\n",
       "      <td>17.731203</td>\n",
       "      <td>13.963818</td>\n",
       "      <td>...</td>\n",
       "      <td>9.987806</td>\n",
       "      <td>23.214865</td>\n",
       "      <td>47.935667</td>\n",
       "      <td>8.749166</td>\n",
       "      <td>11.977595</td>\n",
       "      <td>22.645767</td>\n",
       "      <td>26.486771</td>\n",
       "      <td>74.640090</td>\n",
       "      <td>11.783179</td>\n",
       "      <td>7.675203</td>\n",
       "    </tr>\n",
       "  </tbody>\n",
       "</table>\n",
       "<p>7561 rows × 500 columns</p>\n",
       "</div>"
      ],
      "text/plain": [
       "            0          1          2          3          4         5    \\\n",
       "0      1.000000   1.000000   1.000000   1.000000   1.000000  1.000000   \n",
       "1      0.997813   0.994182   0.996841   1.000815   0.993877  1.011558   \n",
       "2      1.005940   1.014182   0.995424   1.003045   1.011424  1.010491   \n",
       "3      0.996358   1.021190   0.996365   1.001013   1.000725  1.015535   \n",
       "4      0.998703   1.020729   1.011895   1.006801   1.004224  1.004654   \n",
       "...         ...        ...        ...        ...        ...       ...   \n",
       "7556  13.927340  17.611500  12.971587  27.450786  16.297953  8.911506   \n",
       "7557  13.883077  17.702965  13.185126  27.061104  16.221041  8.897768   \n",
       "7558  13.663326  17.629555  13.123343  27.021507  16.111099  8.900393   \n",
       "7559  13.657368  17.551388  13.184516  27.011546  16.067645  8.870551   \n",
       "7560  13.582507  17.679164  13.154101  26.755630  16.241510  8.882276   \n",
       "\n",
       "            6          7          8          9    ...       490        491  \\\n",
       "0      1.000000   1.000000   1.000000   1.000000  ...  1.000000   1.000000   \n",
       "1      1.011017   1.004561   0.982859   0.992410  ...  1.006630   0.993606   \n",
       "2      1.018200   1.007264   0.981482   0.983004  ...  1.003593   1.003507   \n",
       "3      1.011399   1.013981   0.975787   0.976523  ...  1.004521   1.004264   \n",
       "4      1.012800   1.011520   0.986933   0.965316  ...  1.002242   0.988269   \n",
       "...         ...        ...        ...        ...  ...       ...        ...   \n",
       "7556  56.441854  21.447309  17.084313  14.134376  ...  9.773582  23.066987   \n",
       "7557  56.606424  21.681701  17.448136  14.132727  ...  9.784277  22.910300   \n",
       "7558  56.873941  21.616856  17.606267  14.168747  ...  9.764291  23.079732   \n",
       "7559  56.805111  21.548994  17.589980  14.074410  ...  9.901241  23.141603   \n",
       "7560  56.238902  21.529109  17.731203  13.963818  ...  9.987806  23.214865   \n",
       "\n",
       "            492       493        494        495        496        497  \\\n",
       "0      1.000000  1.000000   1.000000   1.000000   1.000000   1.000000   \n",
       "1      1.009260  0.992078   1.010468   0.997208   0.995662   1.003058   \n",
       "2      1.006736  1.001432   1.023214   0.999451   1.004648   1.011834   \n",
       "3      1.001734  0.999318   1.024994   1.001439   1.005225   1.020582   \n",
       "4      0.998040  1.001311   1.031508   1.015652   1.003799   1.022125   \n",
       "...         ...       ...        ...        ...        ...        ...   \n",
       "7556  48.368001  8.951005  11.795768  22.700076  26.114659  74.378488   \n",
       "7557  47.051534  8.840814  11.762508  22.857250  26.240328  74.435712   \n",
       "7558  47.522083  8.875249  11.784688  22.726271  26.060762  75.603492   \n",
       "7559  47.914237  8.887991  11.980079  22.634277  26.150429  74.795605   \n",
       "7560  47.935667  8.749166  11.977595  22.645767  26.486771  74.640090   \n",
       "\n",
       "            498       499  \n",
       "0      1.000000  1.000000  \n",
       "1      0.997429  1.001017  \n",
       "2      0.990319  0.994927  \n",
       "3      0.996165  0.996610  \n",
       "4      1.006690  1.008479  \n",
       "...         ...       ...  \n",
       "7556  12.159723  7.575824  \n",
       "7557  12.121250  7.572104  \n",
       "7558  12.086500  7.628918  \n",
       "7559  11.978095  7.693401  \n",
       "7560  11.783179  7.675203  \n",
       "\n",
       "[7561 rows x 500 columns]"
      ]
     },
     "metadata": {},
     "execution_count": 59
    }
   ],
   "metadata": {}
  },
  {
   "cell_type": "code",
   "execution_count": 60,
   "source": [
    "# Plot simulation outcomes\r\n",
    "line_plot = MC_thirty_year.plot_simulation()"
   ],
   "outputs": [
    {
     "output_type": "display_data",
     "data": {
      "image/png": "[encoded data removed]",
      "text/plain": [
       "<Figure size 432x288 with 1 Axes>"
      ]
     },
     "metadata": {
      "needs_background": "light"
     }
    }
   ],
   "metadata": {}
  },
  {
   "cell_type": "code",
   "execution_count": 61,
   "source": [
    "# Plot probability distribution and confidence intervals\r\n",
    "dist_plot = MC_thirty_year.plot_distribution()"
   ],
   "outputs": [
    {
     "output_type": "display_data",
     "data": {
      "image/png": "[encoded data removed]",
      "text/plain": [
       "<Figure size 432x288 with 1 Axes>"
      ]
     },
     "metadata": {
      "needs_background": "light"
     }
    }
   ],
   "metadata": {}
  },
  {
   "cell_type": "markdown",
   "source": [
    "### Retirement Analysis"
   ],
   "metadata": {}
  },
  {
   "cell_type": "code",
   "execution_count": 62,
   "source": [
    "# Fetch summary statistics from the Monte Carlo simulation results\r\n",
    "tbl = MC_thirty_year.summarize_cumulative_return()\r\n",
    "\r\n",
    "# Print summary statistics\r\n",
    "print(tbl)"
   ],
   "outputs": [
    {
     "output_type": "stream",
     "name": "stdout",
     "text": [
      "count           500.000000\n",
      "mean             25.311952\n",
      "std              20.877831\n",
      "min               1.245731\n",
      "25%              12.704630\n",
      "50%              19.735386\n",
      "75%              31.036639\n",
      "max             184.237024\n",
      "95% CI Lower      4.167104\n",
      "95% CI Upper     74.328261\n",
      "Name: 7560, dtype: float64\n"
     ]
    }
   ],
   "metadata": {}
  },
  {
   "cell_type": "markdown",
   "source": [
    "### Calculate the expected portfolio return at the `95%` lower and upper confidence intervals based on a `$20,000` initial investment."
   ],
   "metadata": {}
  },
  {
   "cell_type": "code",
   "execution_count": 63,
   "source": [
    "# Set initial investment\r\n",
    "initial_investment = 20000\r\n",
    "\r\n",
    "# Use the lower and upper `95%` confidence intervals to calculate the range of the possible outcomes of our $20,000\r\n",
    "ci_lower = round(tbl[8] * initial_investment,2)\r\n",
    "ci_upper = round(tbl[9] * initial_investment,2)\r\n",
    "\r\n",
    "# Print results\r\n",
    "print(f\"There is a 95% chance that an initial investment of ${initial_investment} in the portfolio\"\r\n",
    "      f\" over the next 30 years will end within in the range of\"\r\n",
    "      f\" ${ci_lower} and ${ci_upper}\")"
   ],
   "outputs": [
    {
     "output_type": "stream",
     "name": "stdout",
     "text": [
      "There is a 95% chance that an initial investment of $20000 in the portfolio over the next 30 years will end within in the range of $83342.08 and $1486565.21\n"
     ]
    }
   ],
   "metadata": {}
  },
  {
   "cell_type": "markdown",
   "source": [
    "### Calculate the expected portfolio return at the `95%` lower and upper confidence intervals based on a `50%` increase in the initial investment."
   ],
   "metadata": {}
  },
  {
   "cell_type": "code",
   "execution_count": 64,
   "source": [
    "# Set initial investment\r\n",
    "initial_investment = 20000 * 1.5\r\n",
    "\r\n",
    "# Use the lower and upper `95%` confidence intervals to calculate the range of the possible outcomes of our $30,000\r\n",
    "ci_lower = round(tbl[8] * initial_investment,2)\r\n",
    "ci_upper = round(tbl[9] * initial_investment,2)\r\n",
    "\r\n",
    "# Print results\r\n",
    "print(f\"There is a 95% chance that an initial investment of ${initial_investment} in the portfolio\"\r\n",
    "      f\" over the next 30 years will end within in the range of\"\r\n",
    "      f\" ${ci_lower} and ${ci_upper}\")"
   ],
   "outputs": [
    {
     "output_type": "stream",
     "name": "stdout",
     "text": [
      "There is a 95% chance that an initial investment of $30000.0 in the portfolio over the next 30 years will end within in the range of $125013.12 and $2229847.82\n"
     ]
    }
   ],
   "metadata": {}
  },
  {
   "cell_type": "markdown",
   "source": [
    "## Optional Challenge - Early Retirement\n",
    "\n",
    "\n",
    "### Five Years Retirement Option"
   ],
   "metadata": {}
  },
  {
   "cell_type": "code",
   "execution_count": null,
   "source": [
    "# Configuring a Monte Carlo simulation to forecast 5 years cumulative returns\r\n",
    "# YOUR CODE HERE!"
   ],
   "outputs": [],
   "metadata": {}
  },
  {
   "cell_type": "code",
   "execution_count": null,
   "source": [
    "# Running a Monte Carlo simulation to forecast 5 years cumulative returns\r\n",
    "# YOUR CODE HERE!"
   ],
   "outputs": [],
   "metadata": {}
  },
  {
   "cell_type": "code",
   "execution_count": null,
   "source": [
    "# Plot simulation outcomes\r\n",
    "# YOUR CODE HERE!"
   ],
   "outputs": [],
   "metadata": {}
  },
  {
   "cell_type": "code",
   "execution_count": null,
   "source": [
    "# Plot probability distribution and confidence intervals\r\n",
    "# YOUR CODE HERE!"
   ],
   "outputs": [],
   "metadata": {}
  },
  {
   "cell_type": "code",
   "execution_count": null,
   "source": [
    "# Fetch summary statistics from the Monte Carlo simulation results\r\n",
    "# YOUR CODE HERE!\r\n",
    "\r\n",
    "# Print summary statistics\r\n",
    "# YOUR CODE HERE!"
   ],
   "outputs": [],
   "metadata": {}
  },
  {
   "cell_type": "code",
   "execution_count": null,
   "source": [
    "# Set initial investment\r\n",
    "# YOUR CODE HERE!\r\n",
    "\r\n",
    "# Use the lower and upper `95%` confidence intervals to calculate the range of the possible outcomes of our $60,000\r\n",
    "# YOUR CODE HERE!\r\n",
    "\r\n",
    "# Print results\r\n",
    "print(f\"There is a 95% chance that an initial investment of ${initial_investment} in the portfolio\"\r\n",
    "      f\" over the next 5 years will end within in the range of\"\r\n",
    "      f\" ${ci_lower_five} and ${ci_upper_five}\")"
   ],
   "outputs": [],
   "metadata": {}
  },
  {
   "cell_type": "markdown",
   "source": [
    "### Ten Years Retirement Option"
   ],
   "metadata": {}
  },
  {
   "cell_type": "code",
   "execution_count": null,
   "source": [
    "# Configuring a Monte Carlo simulation to forecast 10 years cumulative returns\r\n",
    "# YOUR CODE HERE!"
   ],
   "outputs": [],
   "metadata": {}
  },
  {
   "cell_type": "code",
   "execution_count": null,
   "source": [
    "# Running a Monte Carlo simulation to forecast 10 years cumulative returns\r\n",
    "# YOUR CODE HERE!"
   ],
   "outputs": [],
   "metadata": {}
  },
  {
   "cell_type": "code",
   "execution_count": null,
   "source": [
    "# Plot simulation outcomes\r\n",
    "# YOUR CODE HERE!"
   ],
   "outputs": [],
   "metadata": {}
  },
  {
   "cell_type": "code",
   "execution_count": null,
   "source": [
    "# Plot probability distribution and confidence intervals\r\n",
    "# YOUR CODE HERE!"
   ],
   "outputs": [],
   "metadata": {}
  },
  {
   "cell_type": "code",
   "execution_count": null,
   "source": [
    "# Fetch summary statistics from the Monte Carlo simulation results\r\n",
    "# YOUR CODE HERE!\r\n",
    "\r\n",
    "# Print summary statistics\r\n",
    "# YOUR CODE HERE!"
   ],
   "outputs": [],
   "metadata": {}
  },
  {
   "cell_type": "code",
   "execution_count": null,
   "source": [
    "# Set initial investment\r\n",
    "# YOUR CODE HERE!\r\n",
    "\r\n",
    "# Use the lower and upper `95%` confidence intervals to calculate the range of the possible outcomes of our $60,000\r\n",
    "# YOUR CODE HERE!\r\n",
    "\r\n",
    "# Print results\r\n",
    "print(f\"There is a 95% chance that an initial investment of ${initial_investment} in the portfolio\"\r\n",
    "      f\" over the next 10 years will end within in the range of\"\r\n",
    "      f\" ${ci_lower_ten} and ${ci_upper_ten}\")"
   ],
   "outputs": [],
   "metadata": {}
  },
  {
   "cell_type": "code",
   "execution_count": null,
   "source": [],
   "outputs": [],
   "metadata": {}
  }
 ],
 "metadata": {
  "kernelspec": {
   "display_name": "Python 3 (ipykernel)",
   "language": "python",
   "name": "python3"
  },
  "language_info": {
   "codemirror_mode": {
    "name": "ipython",
    "version": 3
   },
   "file_extension": ".py",
   "mimetype": "text/x-python",
   "name": "python",
   "nbconvert_exporter": "python",
   "pygments_lexer": "ipython3",
   "version": "3.8.8"
  },
  "nteract": {
   "version": "0.28.0"
  }
 },
 "nbformat": 4,
 "nbformat_minor": 4
}